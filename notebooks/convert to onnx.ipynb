{
 "cells": [
  {
   "cell_type": "code",
   "execution_count": 1,
   "source": [
    "# !pip install timm torch_snippets sklego typer"
   ],
   "outputs": [],
   "metadata": {}
  },
  {
   "cell_type": "code",
   "execution_count": 24,
   "source": [
    "import torch\n",
    "import onnx\n",
    "import torch\n",
    "import torchvision\n",
    "import sys\n",
    "sys.path.append(\"../../horse_zebra_onnx/\")"
   ],
   "outputs": [],
   "metadata": {}
  },
  {
   "cell_type": "code",
   "execution_count": 26,
   "source": [
    "# from auto_train.infer_classification import ImageClassifier"
   ],
   "outputs": [],
   "metadata": {}
  },
  {
   "cell_type": "code",
   "execution_count": 3,
   "source": [
    "m = ImageClassifier()"
   ],
   "outputs": [
    {
     "output_type": "stream",
     "name": "stderr",
     "text": [
      "2021-09-01 22:15:01.734 | INFO     | torch_snippets.paths:inner:24 - 1 files found at horses_vs_zebras/models/trained-model-v1\n"
     ]
    },
    {
     "output_type": "stream",
     "name": "stdout",
     "text": [
      "horses_vs_zebras/models/trained-model-v1/20210818-204642-efficientnet_b0-224\n"
     ]
    }
   ],
   "metadata": {}
  },
  {
   "cell_type": "code",
   "execution_count": 4,
   "source": [
    "# im = torch.ones((1,3,224,224), dtype=torch.float32).cuda()  ## todevice .."
   ],
   "outputs": [],
   "metadata": {}
  },
  {
   "cell_type": "code",
   "execution_count": 2,
   "source": [
    "# m.model(im)"
   ],
   "outputs": [],
   "metadata": {}
  },
  {
   "cell_type": "code",
   "execution_count": 5,
   "source": [
    "dummy_input = torch.randn(1,3,224,224, device='cuda')\n",
    "model = m.model\n",
    "\n",
    "# Providing input and output names sets the display names for values\n",
    "# within the model's graph. Setting these does not change the semantics\n",
    "# of the graph; it is only for readability.\n",
    "#\n",
    "# The inputs to the network consist of the flat list of inputs (i.e.\n",
    "# the values you would pass to the forward() method) followed by the\n",
    "# flat list of parameters. You can partially specify names, i.e. provide\n",
    "# a list here shorter than the number of inputs to the model, and we will\n",
    "# only set that subset of names, starting from the beginning.\n",
    "# input_names = [ \"actual_input_1\" ] + [ \"learned_%d\" % i for i in range(16) ]\n",
    "# output_names = [ \"output1\" ]\n",
    "\n",
    "torch.onnx.export(m.model, dummy_input, \"catvdog.onnx\", verbose=True)"
   ],
   "outputs": [
    {
     "output_type": "stream",
     "name": "stdout",
     "text": [
      "graph(%input.1 : Float(1, 3, 224, 224, strides=[150528, 50176, 224, 1], requires_grad=0, device=cuda:0),\n",
      "      %blocks.0.0.se.conv_reduce.weight : Float(8, 32, 1, 1, strides=[32, 1, 1, 1], requires_grad=1, device=cuda:0),\n",
      "      %blocks.0.0.se.conv_reduce.bias : Float(8, strides=[1], requires_grad=1, device=cuda:0),\n",
      "      %blocks.0.0.se.conv_expand.weight : Float(32, 8, 1, 1, strides=[8, 1, 1, 1], requires_grad=1, device=cuda:0),\n",
      "      %blocks.0.0.se.conv_expand.bias : Float(32, strides=[1], requires_grad=1, device=cuda:0),\n",
      "      %blocks.1.0.se.conv_reduce.weight : Float(4, 96, 1, 1, strides=[96, 1, 1, 1], requires_grad=1, device=cuda:0),\n",
      "      %blocks.1.0.se.conv_reduce.bias : Float(4, strides=[1], requires_grad=1, device=cuda:0),\n",
      "      %blocks.1.0.se.conv_expand.weight : Float(96, 4, 1, 1, strides=[4, 1, 1, 1], requires_grad=1, device=cuda:0),\n",
      "      %blocks.1.0.se.conv_expand.bias : Float(96, strides=[1], requires_grad=1, device=cuda:0),\n",
      "      %blocks.1.1.se.conv_reduce.weight : Float(6, 144, 1, 1, strides=[144, 1, 1, 1], requires_grad=1, device=cuda:0),\n",
      "      %blocks.1.1.se.conv_reduce.bias : Float(6, strides=[1], requires_grad=1, device=cuda:0),\n",
      "      %blocks.1.1.se.conv_expand.weight : Float(144, 6, 1, 1, strides=[6, 1, 1, 1], requires_grad=1, device=cuda:0),\n",
      "      %blocks.1.1.se.conv_expand.bias : Float(144, strides=[1], requires_grad=1, device=cuda:0),\n",
      "      %blocks.2.0.se.conv_reduce.weight : Float(6, 144, 1, 1, strides=[144, 1, 1, 1], requires_grad=1, device=cuda:0),\n",
      "      %blocks.2.0.se.conv_reduce.bias : Float(6, strides=[1], requires_grad=1, device=cuda:0),\n",
      "      %blocks.2.0.se.conv_expand.weight : Float(144, 6, 1, 1, strides=[6, 1, 1, 1], requires_grad=1, device=cuda:0),\n",
      "      %blocks.2.0.se.conv_expand.bias : Float(144, strides=[1], requires_grad=1, device=cuda:0),\n",
      "      %blocks.2.1.se.conv_reduce.weight : Float(10, 240, 1, 1, strides=[240, 1, 1, 1], requires_grad=1, device=cuda:0),\n",
      "      %blocks.2.1.se.conv_reduce.bias : Float(10, strides=[1], requires_grad=1, device=cuda:0),\n",
      "      %blocks.2.1.se.conv_expand.weight : Float(240, 10, 1, 1, strides=[10, 1, 1, 1], requires_grad=1, device=cuda:0),\n",
      "      %blocks.2.1.se.conv_expand.bias : Float(240, strides=[1], requires_grad=1, device=cuda:0),\n",
      "      %blocks.3.0.se.conv_reduce.weight : Float(10, 240, 1, 1, strides=[240, 1, 1, 1], requires_grad=1, device=cuda:0),\n",
      "      %blocks.3.0.se.conv_reduce.bias : Float(10, strides=[1], requires_grad=1, device=cuda:0),\n",
      "      %blocks.3.0.se.conv_expand.weight : Float(240, 10, 1, 1, strides=[10, 1, 1, 1], requires_grad=1, device=cuda:0),\n",
      "      %blocks.3.0.se.conv_expand.bias : Float(240, strides=[1], requires_grad=1, device=cuda:0),\n",
      "      %blocks.3.1.se.conv_reduce.weight : Float(20, 480, 1, 1, strides=[480, 1, 1, 1], requires_grad=1, device=cuda:0),\n",
      "      %blocks.3.1.se.conv_reduce.bias : Float(20, strides=[1], requires_grad=1, device=cuda:0),\n",
      "      %blocks.3.1.se.conv_expand.weight : Float(480, 20, 1, 1, strides=[20, 1, 1, 1], requires_grad=1, device=cuda:0),\n",
      "      %blocks.3.1.se.conv_expand.bias : Float(480, strides=[1], requires_grad=1, device=cuda:0),\n",
      "      %blocks.3.2.se.conv_reduce.weight : Float(20, 480, 1, 1, strides=[480, 1, 1, 1], requires_grad=1, device=cuda:0),\n",
      "      %blocks.3.2.se.conv_reduce.bias : Float(20, strides=[1], requires_grad=1, device=cuda:0),\n",
      "      %blocks.3.2.se.conv_expand.weight : Float(480, 20, 1, 1, strides=[20, 1, 1, 1], requires_grad=1, device=cuda:0),\n",
      "      %blocks.3.2.se.conv_expand.bias : Float(480, strides=[1], requires_grad=1, device=cuda:0),\n",
      "      %blocks.4.0.se.conv_reduce.weight : Float(20, 480, 1, 1, strides=[480, 1, 1, 1], requires_grad=1, device=cuda:0),\n",
      "      %blocks.4.0.se.conv_reduce.bias : Float(20, strides=[1], requires_grad=1, device=cuda:0),\n",
      "      %blocks.4.0.se.conv_expand.weight : Float(480, 20, 1, 1, strides=[20, 1, 1, 1], requires_grad=1, device=cuda:0),\n",
      "      %blocks.4.0.se.conv_expand.bias : Float(480, strides=[1], requires_grad=1, device=cuda:0),\n",
      "      %blocks.4.1.se.conv_reduce.weight : Float(28, 672, 1, 1, strides=[672, 1, 1, 1], requires_grad=1, device=cuda:0),\n",
      "      %blocks.4.1.se.conv_reduce.bias : Float(28, strides=[1], requires_grad=1, device=cuda:0),\n",
      "      %blocks.4.1.se.conv_expand.weight : Float(672, 28, 1, 1, strides=[28, 1, 1, 1], requires_grad=1, device=cuda:0),\n",
      "      %blocks.4.1.se.conv_expand.bias : Float(672, strides=[1], requires_grad=1, device=cuda:0),\n",
      "      %blocks.4.2.se.conv_reduce.weight : Float(28, 672, 1, 1, strides=[672, 1, 1, 1], requires_grad=1, device=cuda:0),\n",
      "      %blocks.4.2.se.conv_reduce.bias : Float(28, strides=[1], requires_grad=1, device=cuda:0),\n",
      "      %blocks.4.2.se.conv_expand.weight : Float(672, 28, 1, 1, strides=[28, 1, 1, 1], requires_grad=1, device=cuda:0),\n",
      "      %blocks.4.2.se.conv_expand.bias : Float(672, strides=[1], requires_grad=1, device=cuda:0),\n",
      "      %blocks.5.0.se.conv_reduce.weight : Float(28, 672, 1, 1, strides=[672, 1, 1, 1], requires_grad=1, device=cuda:0),\n",
      "      %blocks.5.0.se.conv_reduce.bias : Float(28, strides=[1], requires_grad=1, device=cuda:0),\n",
      "      %blocks.5.0.se.conv_expand.weight : Float(672, 28, 1, 1, strides=[28, 1, 1, 1], requires_grad=1, device=cuda:0),\n",
      "      %blocks.5.0.se.conv_expand.bias : Float(672, strides=[1], requires_grad=1, device=cuda:0),\n",
      "      %blocks.5.1.se.conv_reduce.weight : Float(48, 1152, 1, 1, strides=[1152, 1, 1, 1], requires_grad=1, device=cuda:0),\n",
      "      %blocks.5.1.se.conv_reduce.bias : Float(48, strides=[1], requires_grad=1, device=cuda:0),\n",
      "      %blocks.5.1.se.conv_expand.weight : Float(1152, 48, 1, 1, strides=[48, 1, 1, 1], requires_grad=1, device=cuda:0),\n",
      "      %blocks.5.1.se.conv_expand.bias : Float(1152, strides=[1], requires_grad=1, device=cuda:0),\n",
      "      %blocks.5.2.se.conv_reduce.weight : Float(48, 1152, 1, 1, strides=[1152, 1, 1, 1], requires_grad=1, device=cuda:0),\n",
      "      %blocks.5.2.se.conv_reduce.bias : Float(48, strides=[1], requires_grad=1, device=cuda:0),\n",
      "      %blocks.5.2.se.conv_expand.weight : Float(1152, 48, 1, 1, strides=[48, 1, 1, 1], requires_grad=1, device=cuda:0),\n",
      "      %blocks.5.2.se.conv_expand.bias : Float(1152, strides=[1], requires_grad=1, device=cuda:0),\n",
      "      %blocks.5.3.se.conv_reduce.weight : Float(48, 1152, 1, 1, strides=[1152, 1, 1, 1], requires_grad=1, device=cuda:0),\n",
      "      %blocks.5.3.se.conv_reduce.bias : Float(48, strides=[1], requires_grad=1, device=cuda:0),\n",
      "      %blocks.5.3.se.conv_expand.weight : Float(1152, 48, 1, 1, strides=[48, 1, 1, 1], requires_grad=1, device=cuda:0),\n",
      "      %blocks.5.3.se.conv_expand.bias : Float(1152, strides=[1], requires_grad=1, device=cuda:0),\n",
      "      %blocks.6.0.se.conv_reduce.weight : Float(48, 1152, 1, 1, strides=[1152, 1, 1, 1], requires_grad=1, device=cuda:0),\n",
      "      %blocks.6.0.se.conv_reduce.bias : Float(48, strides=[1], requires_grad=1, device=cuda:0),\n",
      "      %blocks.6.0.se.conv_expand.weight : Float(1152, 48, 1, 1, strides=[48, 1, 1, 1], requires_grad=1, device=cuda:0),\n",
      "      %blocks.6.0.se.conv_expand.bias : Float(1152, strides=[1], requires_grad=1, device=cuda:0),\n",
      "      %classifier.weight : Float(2, 1280, strides=[1280, 1], requires_grad=1, device=cuda:0),\n",
      "      %classifier.bias : Float(2, strides=[1], requires_grad=1, device=cuda:0),\n",
      "      %650 : Float(32, 3, 3, 3, strides=[27, 9, 3, 1], requires_grad=0, device=cuda:0),\n",
      "      %651 : Float(32, strides=[1], requires_grad=0, device=cuda:0),\n",
      "      %653 : Float(32, 1, 3, 3, strides=[9, 9, 3, 1], requires_grad=0, device=cuda:0),\n",
      "      %654 : Float(32, strides=[1], requires_grad=0, device=cuda:0),\n",
      "      %656 : Float(16, 32, 1, 1, strides=[32, 1, 1, 1], requires_grad=0, device=cuda:0),\n",
      "      %657 : Float(16, strides=[1], requires_grad=0, device=cuda:0),\n",
      "      %659 : Float(96, 16, 1, 1, strides=[16, 1, 1, 1], requires_grad=0, device=cuda:0),\n",
      "      %660 : Float(96, strides=[1], requires_grad=0, device=cuda:0),\n",
      "      %662 : Float(96, 1, 3, 3, strides=[9, 9, 3, 1], requires_grad=0, device=cuda:0),\n",
      "      %663 : Float(96, strides=[1], requires_grad=0, device=cuda:0),\n",
      "      %665 : Float(24, 96, 1, 1, strides=[96, 1, 1, 1], requires_grad=0, device=cuda:0),\n",
      "      %666 : Float(24, strides=[1], requires_grad=0, device=cuda:0),\n",
      "      %668 : Float(144, 24, 1, 1, strides=[24, 1, 1, 1], requires_grad=0, device=cuda:0),\n",
      "      %669 : Float(144, strides=[1], requires_grad=0, device=cuda:0),\n",
      "      %671 : Float(144, 1, 3, 3, strides=[9, 9, 3, 1], requires_grad=0, device=cuda:0),\n",
      "      %672 : Float(144, strides=[1], requires_grad=0, device=cuda:0),\n",
      "      %674 : Float(24, 144, 1, 1, strides=[144, 1, 1, 1], requires_grad=0, device=cuda:0),\n",
      "      %675 : Float(24, strides=[1], requires_grad=0, device=cuda:0),\n",
      "      %677 : Float(144, 24, 1, 1, strides=[24, 1, 1, 1], requires_grad=0, device=cuda:0),\n",
      "      %678 : Float(144, strides=[1], requires_grad=0, device=cuda:0),\n",
      "      %680 : Float(144, 1, 5, 5, strides=[25, 25, 5, 1], requires_grad=0, device=cuda:0),\n",
      "      %681 : Float(144, strides=[1], requires_grad=0, device=cuda:0),\n",
      "      %683 : Float(40, 144, 1, 1, strides=[144, 1, 1, 1], requires_grad=0, device=cuda:0),\n",
      "      %684 : Float(40, strides=[1], requires_grad=0, device=cuda:0),\n",
      "      %686 : Float(240, 40, 1, 1, strides=[40, 1, 1, 1], requires_grad=0, device=cuda:0),\n",
      "      %687 : Float(240, strides=[1], requires_grad=0, device=cuda:0),\n",
      "      %689 : Float(240, 1, 5, 5, strides=[25, 25, 5, 1], requires_grad=0, device=cuda:0),\n",
      "      %690 : Float(240, strides=[1], requires_grad=0, device=cuda:0),\n",
      "      %692 : Float(40, 240, 1, 1, strides=[240, 1, 1, 1], requires_grad=0, device=cuda:0),\n",
      "      %693 : Float(40, strides=[1], requires_grad=0, device=cuda:0),\n",
      "      %695 : Float(240, 40, 1, 1, strides=[40, 1, 1, 1], requires_grad=0, device=cuda:0),\n",
      "      %696 : Float(240, strides=[1], requires_grad=0, device=cuda:0),\n",
      "      %698 : Float(240, 1, 3, 3, strides=[9, 9, 3, 1], requires_grad=0, device=cuda:0),\n",
      "      %699 : Float(240, strides=[1], requires_grad=0, device=cuda:0),\n",
      "      %701 : Float(80, 240, 1, 1, strides=[240, 1, 1, 1], requires_grad=0, device=cuda:0),\n",
      "      %702 : Float(80, strides=[1], requires_grad=0, device=cuda:0),\n",
      "      %704 : Float(480, 80, 1, 1, strides=[80, 1, 1, 1], requires_grad=0, device=cuda:0),\n",
      "      %705 : Float(480, strides=[1], requires_grad=0, device=cuda:0),\n",
      "      %707 : Float(480, 1, 3, 3, strides=[9, 9, 3, 1], requires_grad=0, device=cuda:0),\n",
      "      %708 : Float(480, strides=[1], requires_grad=0, device=cuda:0),\n",
      "      %710 : Float(80, 480, 1, 1, strides=[480, 1, 1, 1], requires_grad=0, device=cuda:0),\n",
      "      %711 : Float(80, strides=[1], requires_grad=0, device=cuda:0),\n",
      "      %713 : Float(480, 80, 1, 1, strides=[80, 1, 1, 1], requires_grad=0, device=cuda:0),\n",
      "      %714 : Float(480, strides=[1], requires_grad=0, device=cuda:0),\n",
      "      %716 : Float(480, 1, 3, 3, strides=[9, 9, 3, 1], requires_grad=0, device=cuda:0),\n",
      "      %717 : Float(480, strides=[1], requires_grad=0, device=cuda:0),\n",
      "      %719 : Float(80, 480, 1, 1, strides=[480, 1, 1, 1], requires_grad=0, device=cuda:0),\n",
      "      %720 : Float(80, strides=[1], requires_grad=0, device=cuda:0),\n",
      "      %722 : Float(480, 80, 1, 1, strides=[80, 1, 1, 1], requires_grad=0, device=cuda:0),\n",
      "      %723 : Float(480, strides=[1], requires_grad=0, device=cuda:0),\n",
      "      %725 : Float(480, 1, 5, 5, strides=[25, 25, 5, 1], requires_grad=0, device=cuda:0),\n",
      "      %726 : Float(480, strides=[1], requires_grad=0, device=cuda:0),\n",
      "      %728 : Float(112, 480, 1, 1, strides=[480, 1, 1, 1], requires_grad=0, device=cuda:0),\n",
      "      %729 : Float(112, strides=[1], requires_grad=0, device=cuda:0),\n",
      "      %731 : Float(672, 112, 1, 1, strides=[112, 1, 1, 1], requires_grad=0, device=cuda:0),\n",
      "      %732 : Float(672, strides=[1], requires_grad=0, device=cuda:0),\n",
      "      %734 : Float(672, 1, 5, 5, strides=[25, 25, 5, 1], requires_grad=0, device=cuda:0),\n",
      "      %735 : Float(672, strides=[1], requires_grad=0, device=cuda:0),\n",
      "      %737 : Float(112, 672, 1, 1, strides=[672, 1, 1, 1], requires_grad=0, device=cuda:0),\n",
      "      %738 : Float(112, strides=[1], requires_grad=0, device=cuda:0),\n",
      "      %740 : Float(672, 112, 1, 1, strides=[112, 1, 1, 1], requires_grad=0, device=cuda:0),\n",
      "      %741 : Float(672, strides=[1], requires_grad=0, device=cuda:0),\n",
      "      %743 : Float(672, 1, 5, 5, strides=[25, 25, 5, 1], requires_grad=0, device=cuda:0),\n",
      "      %744 : Float(672, strides=[1], requires_grad=0, device=cuda:0),\n",
      "      %746 : Float(112, 672, 1, 1, strides=[672, 1, 1, 1], requires_grad=0, device=cuda:0),\n",
      "      %747 : Float(112, strides=[1], requires_grad=0, device=cuda:0),\n",
      "      %749 : Float(672, 112, 1, 1, strides=[112, 1, 1, 1], requires_grad=0, device=cuda:0),\n",
      "      %750 : Float(672, strides=[1], requires_grad=0, device=cuda:0),\n",
      "      %752 : Float(672, 1, 5, 5, strides=[25, 25, 5, 1], requires_grad=0, device=cuda:0),\n",
      "      %753 : Float(672, strides=[1], requires_grad=0, device=cuda:0),\n",
      "      %755 : Float(192, 672, 1, 1, strides=[672, 1, 1, 1], requires_grad=0, device=cuda:0),\n",
      "      %756 : Float(192, strides=[1], requires_grad=0, device=cuda:0),\n",
      "      %758 : Float(1152, 192, 1, 1, strides=[192, 1, 1, 1], requires_grad=0, device=cuda:0),\n",
      "      %759 : Float(1152, strides=[1], requires_grad=0, device=cuda:0),\n",
      "      %761 : Float(1152, 1, 5, 5, strides=[25, 25, 5, 1], requires_grad=0, device=cuda:0),\n",
      "      %762 : Float(1152, strides=[1], requires_grad=0, device=cuda:0),\n",
      "      %764 : Float(192, 1152, 1, 1, strides=[1152, 1, 1, 1], requires_grad=0, device=cuda:0),\n",
      "      %765 : Float(192, strides=[1], requires_grad=0, device=cuda:0),\n",
      "      %767 : Float(1152, 192, 1, 1, strides=[192, 1, 1, 1], requires_grad=0, device=cuda:0),\n",
      "      %768 : Float(1152, strides=[1], requires_grad=0, device=cuda:0),\n",
      "      %770 : Float(1152, 1, 5, 5, strides=[25, 25, 5, 1], requires_grad=0, device=cuda:0),\n",
      "      %771 : Float(1152, strides=[1], requires_grad=0, device=cuda:0),\n",
      "      %773 : Float(192, 1152, 1, 1, strides=[1152, 1, 1, 1], requires_grad=0, device=cuda:0),\n",
      "      %774 : Float(192, strides=[1], requires_grad=0, device=cuda:0),\n",
      "      %776 : Float(1152, 192, 1, 1, strides=[192, 1, 1, 1], requires_grad=0, device=cuda:0),\n",
      "      %777 : Float(1152, strides=[1], requires_grad=0, device=cuda:0),\n",
      "      %779 : Float(1152, 1, 5, 5, strides=[25, 25, 5, 1], requires_grad=0, device=cuda:0),\n",
      "      %780 : Float(1152, strides=[1], requires_grad=0, device=cuda:0),\n",
      "      %782 : Float(192, 1152, 1, 1, strides=[1152, 1, 1, 1], requires_grad=0, device=cuda:0),\n",
      "      %783 : Float(192, strides=[1], requires_grad=0, device=cuda:0),\n",
      "      %785 : Float(1152, 192, 1, 1, strides=[192, 1, 1, 1], requires_grad=0, device=cuda:0),\n",
      "      %786 : Float(1152, strides=[1], requires_grad=0, device=cuda:0),\n",
      "      %788 : Float(1152, 1, 3, 3, strides=[9, 9, 3, 1], requires_grad=0, device=cuda:0),\n",
      "      %789 : Float(1152, strides=[1], requires_grad=0, device=cuda:0),\n",
      "      %791 : Float(320, 1152, 1, 1, strides=[1152, 1, 1, 1], requires_grad=0, device=cuda:0),\n",
      "      %792 : Float(320, strides=[1], requires_grad=0, device=cuda:0),\n",
      "      %794 : Float(1280, 320, 1, 1, strides=[320, 1, 1, 1], requires_grad=0, device=cuda:0),\n",
      "      %795 : Float(1280, strides=[1], requires_grad=0, device=cuda:0)):\n",
      "  %649 : Float(1, 32, 112, 112, strides=[401408, 12544, 112, 1], requires_grad=1, device=cuda:0) = onnx::Conv[dilations=[1, 1], group=1, kernel_shape=[3, 3], pads=[1, 1, 1, 1], strides=[2, 2]](%input.1, %650, %651)\n",
      "  %363 : Float(1, 32, 112, 112, strides=[401408, 12544, 112, 1], device=cpu) = onnx::Sigmoid(%649)\n",
      "  %364 : Float(1, 32, 112, 112, strides=[401408, 12544, 112, 1], requires_grad=1, device=cuda:0) = onnx::Mul(%649, %363) # /opt/anaconda/envs/pytorch/lib/python3.8/site-packages/torch/nn/functional.py:1897:0\n",
      "  %652 : Float(1, 32, 112, 112, strides=[401408, 12544, 112, 1], requires_grad=1, device=cuda:0) = onnx::Conv[dilations=[1, 1], group=32, kernel_shape=[3, 3], pads=[1, 1, 1, 1], strides=[1, 1]](%364, %653, %654)\n",
      "  %367 : Float(1, 32, 112, 112, strides=[401408, 12544, 112, 1], device=cpu) = onnx::Sigmoid(%652)\n",
      "  %368 : Float(1, 32, 112, 112, strides=[401408, 12544, 112, 1], requires_grad=1, device=cuda:0) = onnx::Mul(%652, %367) # /opt/anaconda/envs/pytorch/lib/python3.8/site-packages/torch/nn/functional.py:1897:0\n",
      "  %369 : Float(1, 32, 1, 1, strides=[32, 1, 1, 1], requires_grad=1, device=cuda:0) = onnx::ReduceMean[axes=[2, 3], keepdims=1](%368) # /opt/anaconda/envs/pytorch/lib/python3.8/site-packages/timm/models/efficientnet_blocks.py:43:0\n",
      "  %370 : Float(1, 8, 1, 1, strides=[8, 1, 1, 1], requires_grad=1, device=cuda:0) = onnx::Conv[dilations=[1, 1], group=1, kernel_shape=[1, 1], pads=[0, 0, 0, 0], strides=[1, 1]](%369, %blocks.0.0.se.conv_reduce.weight, %blocks.0.0.se.conv_reduce.bias) # /opt/anaconda/envs/pytorch/lib/python3.8/site-packages/torch/nn/modules/conv.py:439:0\n",
      "  %371 : Float(1, 8, 1, 1, strides=[8, 1, 1, 1], device=cpu) = onnx::Sigmoid(%370)\n",
      "  %372 : Float(1, 8, 1, 1, strides=[8, 1, 1, 1], requires_grad=1, device=cuda:0) = onnx::Mul(%370, %371) # /opt/anaconda/envs/pytorch/lib/python3.8/site-packages/torch/nn/functional.py:1897:0\n",
      "  %373 : Float(1, 32, 1, 1, strides=[32, 1, 1, 1], requires_grad=1, device=cuda:0) = onnx::Conv[dilations=[1, 1], group=1, kernel_shape=[1, 1], pads=[0, 0, 0, 0], strides=[1, 1]](%372, %blocks.0.0.se.conv_expand.weight, %blocks.0.0.se.conv_expand.bias) # /opt/anaconda/envs/pytorch/lib/python3.8/site-packages/torch/nn/modules/conv.py:439:0\n",
      "  %374 : Float(1, 32, 1, 1, strides=[32, 1, 1, 1], requires_grad=1, device=cuda:0) = onnx::Sigmoid(%373) # /opt/anaconda/envs/pytorch/lib/python3.8/site-packages/torch/nn/modules/activation.py:299:0\n",
      "  %375 : Float(1, 32, 112, 112, strides=[401408, 12544, 112, 1], requires_grad=1, device=cuda:0) = onnx::Mul(%368, %374) # /opt/anaconda/envs/pytorch/lib/python3.8/site-packages/timm/models/efficientnet_blocks.py:47:0\n",
      "  %655 : Float(1, 16, 112, 112, strides=[200704, 12544, 112, 1], requires_grad=1, device=cuda:0) = onnx::Conv[dilations=[1, 1], group=1, kernel_shape=[1, 1], pads=[0, 0, 0, 0], strides=[1, 1]](%375, %656, %657)\n",
      "  %658 : Float(1, 96, 112, 112, strides=[1204224, 12544, 112, 1], requires_grad=1, device=cuda:0) = onnx::Conv[dilations=[1, 1], group=1, kernel_shape=[1, 1], pads=[0, 0, 0, 0], strides=[1, 1]](%655, %659, %660)\n",
      "  %380 : Float(1, 96, 112, 112, strides=[1204224, 12544, 112, 1], device=cpu) = onnx::Sigmoid(%658)\n",
      "  %381 : Float(1, 96, 112, 112, strides=[1204224, 12544, 112, 1], requires_grad=1, device=cuda:0) = onnx::Mul(%658, %380) # /opt/anaconda/envs/pytorch/lib/python3.8/site-packages/torch/nn/functional.py:1897:0\n",
      "  %661 : Float(1, 96, 56, 56, strides=[301056, 3136, 56, 1], requires_grad=1, device=cuda:0) = onnx::Conv[dilations=[1, 1], group=96, kernel_shape=[3, 3], pads=[1, 1, 1, 1], strides=[2, 2]](%381, %662, %663)\n",
      "  %384 : Float(1, 96, 56, 56, strides=[301056, 3136, 56, 1], device=cpu) = onnx::Sigmoid(%661)\n",
      "  %385 : Float(1, 96, 56, 56, strides=[301056, 3136, 56, 1], requires_grad=1, device=cuda:0) = onnx::Mul(%661, %384) # /opt/anaconda/envs/pytorch/lib/python3.8/site-packages/torch/nn/functional.py:1897:0\n",
      "  %386 : Float(1, 96, 1, 1, strides=[96, 1, 1, 1], requires_grad=1, device=cuda:0) = onnx::ReduceMean[axes=[2, 3], keepdims=1](%385) # /opt/anaconda/envs/pytorch/lib/python3.8/site-packages/timm/models/efficientnet_blocks.py:43:0\n",
      "  %387 : Float(1, 4, 1, 1, strides=[4, 1, 1, 1], requires_grad=1, device=cuda:0) = onnx::Conv[dilations=[1, 1], group=1, kernel_shape=[1, 1], pads=[0, 0, 0, 0], strides=[1, 1]](%386, %blocks.1.0.se.conv_reduce.weight, %blocks.1.0.se.conv_reduce.bias) # /opt/anaconda/envs/pytorch/lib/python3.8/site-packages/torch/nn/modules/conv.py:439:0\n",
      "  %388 : Float(1, 4, 1, 1, strides=[4, 1, 1, 1], device=cpu) = onnx::Sigmoid(%387)\n",
      "  %389 : Float(1, 4, 1, 1, strides=[4, 1, 1, 1], requires_grad=1, device=cuda:0) = onnx::Mul(%387, %388) # /opt/anaconda/envs/pytorch/lib/python3.8/site-packages/torch/nn/functional.py:1897:0\n",
      "  %390 : Float(1, 96, 1, 1, strides=[96, 1, 1, 1], requires_grad=1, device=cuda:0) = onnx::Conv[dilations=[1, 1], group=1, kernel_shape=[1, 1], pads=[0, 0, 0, 0], strides=[1, 1]](%389, %blocks.1.0.se.conv_expand.weight, %blocks.1.0.se.conv_expand.bias) # /opt/anaconda/envs/pytorch/lib/python3.8/site-packages/torch/nn/modules/conv.py:439:0\n",
      "  %391 : Float(1, 96, 1, 1, strides=[96, 1, 1, 1], requires_grad=1, device=cuda:0) = onnx::Sigmoid(%390) # /opt/anaconda/envs/pytorch/lib/python3.8/site-packages/torch/nn/modules/activation.py:299:0\n",
      "  %392 : Float(1, 96, 56, 56, strides=[301056, 3136, 56, 1], requires_grad=1, device=cuda:0) = onnx::Mul(%385, %391) # /opt/anaconda/envs/pytorch/lib/python3.8/site-packages/timm/models/efficientnet_blocks.py:47:0\n",
      "  %664 : Float(1, 24, 56, 56, strides=[75264, 3136, 56, 1], requires_grad=1, device=cuda:0) = onnx::Conv[dilations=[1, 1], group=1, kernel_shape=[1, 1], pads=[0, 0, 0, 0], strides=[1, 1]](%392, %665, %666)\n",
      "  %667 : Float(1, 144, 56, 56, strides=[451584, 3136, 56, 1], requires_grad=1, device=cuda:0) = onnx::Conv[dilations=[1, 1], group=1, kernel_shape=[1, 1], pads=[0, 0, 0, 0], strides=[1, 1]](%664, %668, %669)\n",
      "  %397 : Float(1, 144, 56, 56, strides=[451584, 3136, 56, 1], device=cpu) = onnx::Sigmoid(%667)\n",
      "  %398 : Float(1, 144, 56, 56, strides=[451584, 3136, 56, 1], requires_grad=1, device=cuda:0) = onnx::Mul(%667, %397) # /opt/anaconda/envs/pytorch/lib/python3.8/site-packages/torch/nn/functional.py:1897:0\n",
      "  %670 : Float(1, 144, 56, 56, strides=[451584, 3136, 56, 1], requires_grad=1, device=cuda:0) = onnx::Conv[dilations=[1, 1], group=144, kernel_shape=[3, 3], pads=[1, 1, 1, 1], strides=[1, 1]](%398, %671, %672)\n",
      "  %401 : Float(1, 144, 56, 56, strides=[451584, 3136, 56, 1], device=cpu) = onnx::Sigmoid(%670)\n",
      "  %402 : Float(1, 144, 56, 56, strides=[451584, 3136, 56, 1], requires_grad=1, device=cuda:0) = onnx::Mul(%670, %401) # /opt/anaconda/envs/pytorch/lib/python3.8/site-packages/torch/nn/functional.py:1897:0\n",
      "  %403 : Float(1, 144, 1, 1, strides=[144, 1, 1, 1], requires_grad=1, device=cuda:0) = onnx::ReduceMean[axes=[2, 3], keepdims=1](%402) # /opt/anaconda/envs/pytorch/lib/python3.8/site-packages/timm/models/efficientnet_blocks.py:43:0\n",
      "  %404 : Float(1, 6, 1, 1, strides=[6, 1, 1, 1], requires_grad=1, device=cuda:0) = onnx::Conv[dilations=[1, 1], group=1, kernel_shape=[1, 1], pads=[0, 0, 0, 0], strides=[1, 1]](%403, %blocks.1.1.se.conv_reduce.weight, %blocks.1.1.se.conv_reduce.bias) # /opt/anaconda/envs/pytorch/lib/python3.8/site-packages/torch/nn/modules/conv.py:439:0\n",
      "  %405 : Float(1, 6, 1, 1, strides=[6, 1, 1, 1], device=cpu) = onnx::Sigmoid(%404)\n",
      "  %406 : Float(1, 6, 1, 1, strides=[6, 1, 1, 1], requires_grad=1, device=cuda:0) = onnx::Mul(%404, %405) # /opt/anaconda/envs/pytorch/lib/python3.8/site-packages/torch/nn/functional.py:1897:0\n",
      "  %407 : Float(1, 144, 1, 1, strides=[144, 1, 1, 1], requires_grad=1, device=cuda:0) = onnx::Conv[dilations=[1, 1], group=1, kernel_shape=[1, 1], pads=[0, 0, 0, 0], strides=[1, 1]](%406, %blocks.1.1.se.conv_expand.weight, %blocks.1.1.se.conv_expand.bias) # /opt/anaconda/envs/pytorch/lib/python3.8/site-packages/torch/nn/modules/conv.py:439:0\n",
      "  %408 : Float(1, 144, 1, 1, strides=[144, 1, 1, 1], requires_grad=1, device=cuda:0) = onnx::Sigmoid(%407) # /opt/anaconda/envs/pytorch/lib/python3.8/site-packages/torch/nn/modules/activation.py:299:0\n",
      "  %409 : Float(1, 144, 56, 56, strides=[451584, 3136, 56, 1], requires_grad=1, device=cuda:0) = onnx::Mul(%402, %408) # /opt/anaconda/envs/pytorch/lib/python3.8/site-packages/timm/models/efficientnet_blocks.py:47:0\n",
      "  %673 : Float(1, 24, 56, 56, strides=[75264, 3136, 56, 1], requires_grad=1, device=cuda:0) = onnx::Conv[dilations=[1, 1], group=1, kernel_shape=[1, 1], pads=[0, 0, 0, 0], strides=[1, 1]](%409, %674, %675)\n",
      "  %412 : Float(1, 24, 56, 56, strides=[75264, 3136, 56, 1], requires_grad=1, device=cuda:0) = onnx::Add(%673, %664) # /opt/anaconda/envs/pytorch/lib/python3.8/site-packages/timm/models/efficientnet_blocks.py:204:0\n",
      "  %676 : Float(1, 144, 56, 56, strides=[451584, 3136, 56, 1], requires_grad=1, device=cuda:0) = onnx::Conv[dilations=[1, 1], group=1, kernel_shape=[1, 1], pads=[0, 0, 0, 0], strides=[1, 1]](%412, %677, %678)\n",
      "  %415 : Float(1, 144, 56, 56, strides=[451584, 3136, 56, 1], device=cpu) = onnx::Sigmoid(%676)\n",
      "  %416 : Float(1, 144, 56, 56, strides=[451584, 3136, 56, 1], requires_grad=1, device=cuda:0) = onnx::Mul(%676, %415) # /opt/anaconda/envs/pytorch/lib/python3.8/site-packages/torch/nn/functional.py:1897:0\n",
      "  %679 : Float(1, 144, 28, 28, strides=[112896, 784, 28, 1], requires_grad=1, device=cuda:0) = onnx::Conv[dilations=[1, 1], group=144, kernel_shape=[5, 5], pads=[2, 2, 2, 2], strides=[2, 2]](%416, %680, %681)\n",
      "  %419 : Float(1, 144, 28, 28, strides=[112896, 784, 28, 1], device=cpu) = onnx::Sigmoid(%679)\n",
      "  %420 : Float(1, 144, 28, 28, strides=[112896, 784, 28, 1], requires_grad=1, device=cuda:0) = onnx::Mul(%679, %419) # /opt/anaconda/envs/pytorch/lib/python3.8/site-packages/torch/nn/functional.py:1897:0\n",
      "  %421 : Float(1, 144, 1, 1, strides=[144, 1, 1, 1], requires_grad=1, device=cuda:0) = onnx::ReduceMean[axes=[2, 3], keepdims=1](%420) # /opt/anaconda/envs/pytorch/lib/python3.8/site-packages/timm/models/efficientnet_blocks.py:43:0\n",
      "  %422 : Float(1, 6, 1, 1, strides=[6, 1, 1, 1], requires_grad=1, device=cuda:0) = onnx::Conv[dilations=[1, 1], group=1, kernel_shape=[1, 1], pads=[0, 0, 0, 0], strides=[1, 1]](%421, %blocks.2.0.se.conv_reduce.weight, %blocks.2.0.se.conv_reduce.bias) # /opt/anaconda/envs/pytorch/lib/python3.8/site-packages/torch/nn/modules/conv.py:439:0\n",
      "  %423 : Float(1, 6, 1, 1, strides=[6, 1, 1, 1], device=cpu) = onnx::Sigmoid(%422)\n",
      "  %424 : Float(1, 6, 1, 1, strides=[6, 1, 1, 1], requires_grad=1, device=cuda:0) = onnx::Mul(%422, %423) # /opt/anaconda/envs/pytorch/lib/python3.8/site-packages/torch/nn/functional.py:1897:0\n",
      "  %425 : Float(1, 144, 1, 1, strides=[144, 1, 1, 1], requires_grad=1, device=cuda:0) = onnx::Conv[dilations=[1, 1], group=1, kernel_shape=[1, 1], pads=[0, 0, 0, 0], strides=[1, 1]](%424, %blocks.2.0.se.conv_expand.weight, %blocks.2.0.se.conv_expand.bias) # /opt/anaconda/envs/pytorch/lib/python3.8/site-packages/torch/nn/modules/conv.py:439:0\n",
      "  %426 : Float(1, 144, 1, 1, strides=[144, 1, 1, 1], requires_grad=1, device=cuda:0) = onnx::Sigmoid(%425) # /opt/anaconda/envs/pytorch/lib/python3.8/site-packages/torch/nn/modules/activation.py:299:0\n",
      "  %427 : Float(1, 144, 28, 28, strides=[112896, 784, 28, 1], requires_grad=1, device=cuda:0) = onnx::Mul(%420, %426) # /opt/anaconda/envs/pytorch/lib/python3.8/site-packages/timm/models/efficientnet_blocks.py:47:0\n",
      "  %682 : Float(1, 40, 28, 28, strides=[31360, 784, 28, 1], requires_grad=1, device=cuda:0) = onnx::Conv[dilations=[1, 1], group=1, kernel_shape=[1, 1], pads=[0, 0, 0, 0], strides=[1, 1]](%427, %683, %684)\n",
      "  %685 : Float(1, 240, 28, 28, strides=[188160, 784, 28, 1], requires_grad=1, device=cuda:0) = onnx::Conv[dilations=[1, 1], group=1, kernel_shape=[1, 1], pads=[0, 0, 0, 0], strides=[1, 1]](%682, %686, %687)\n",
      "  %432 : Float(1, 240, 28, 28, strides=[188160, 784, 28, 1], device=cpu) = onnx::Sigmoid(%685)\n",
      "  %433 : Float(1, 240, 28, 28, strides=[188160, 784, 28, 1], requires_grad=1, device=cuda:0) = onnx::Mul(%685, %432) # /opt/anaconda/envs/pytorch/lib/python3.8/site-packages/torch/nn/functional.py:1897:0\n",
      "  %688 : Float(1, 240, 28, 28, strides=[188160, 784, 28, 1], requires_grad=1, device=cuda:0) = onnx::Conv[dilations=[1, 1], group=240, kernel_shape=[5, 5], pads=[2, 2, 2, 2], strides=[1, 1]](%433, %689, %690)\n",
      "  %436 : Float(1, 240, 28, 28, strides=[188160, 784, 28, 1], device=cpu) = onnx::Sigmoid(%688)\n",
      "  %437 : Float(1, 240, 28, 28, strides=[188160, 784, 28, 1], requires_grad=1, device=cuda:0) = onnx::Mul(%688, %436) # /opt/anaconda/envs/pytorch/lib/python3.8/site-packages/torch/nn/functional.py:1897:0\n",
      "  %438 : Float(1, 240, 1, 1, strides=[240, 1, 1, 1], requires_grad=1, device=cuda:0) = onnx::ReduceMean[axes=[2, 3], keepdims=1](%437) # /opt/anaconda/envs/pytorch/lib/python3.8/site-packages/timm/models/efficientnet_blocks.py:43:0\n",
      "  %439 : Float(1, 10, 1, 1, strides=[10, 1, 1, 1], requires_grad=1, device=cuda:0) = onnx::Conv[dilations=[1, 1], group=1, kernel_shape=[1, 1], pads=[0, 0, 0, 0], strides=[1, 1]](%438, %blocks.2.1.se.conv_reduce.weight, %blocks.2.1.se.conv_reduce.bias) # /opt/anaconda/envs/pytorch/lib/python3.8/site-packages/torch/nn/modules/conv.py:439:0\n",
      "  %440 : Float(1, 10, 1, 1, strides=[10, 1, 1, 1], device=cpu) = onnx::Sigmoid(%439)\n",
      "  %441 : Float(1, 10, 1, 1, strides=[10, 1, 1, 1], requires_grad=1, device=cuda:0) = onnx::Mul(%439, %440) # /opt/anaconda/envs/pytorch/lib/python3.8/site-packages/torch/nn/functional.py:1897:0\n",
      "  %442 : Float(1, 240, 1, 1, strides=[240, 1, 1, 1], requires_grad=1, device=cuda:0) = onnx::Conv[dilations=[1, 1], group=1, kernel_shape=[1, 1], pads=[0, 0, 0, 0], strides=[1, 1]](%441, %blocks.2.1.se.conv_expand.weight, %blocks.2.1.se.conv_expand.bias) # /opt/anaconda/envs/pytorch/lib/python3.8/site-packages/torch/nn/modules/conv.py:439:0\n",
      "  %443 : Float(1, 240, 1, 1, strides=[240, 1, 1, 1], requires_grad=1, device=cuda:0) = onnx::Sigmoid(%442) # /opt/anaconda/envs/pytorch/lib/python3.8/site-packages/torch/nn/modules/activation.py:299:0\n",
      "  %444 : Float(1, 240, 28, 28, strides=[188160, 784, 28, 1], requires_grad=1, device=cuda:0) = onnx::Mul(%437, %443) # /opt/anaconda/envs/pytorch/lib/python3.8/site-packages/timm/models/efficientnet_blocks.py:47:0\n",
      "  %691 : Float(1, 40, 28, 28, strides=[31360, 784, 28, 1], requires_grad=1, device=cuda:0) = onnx::Conv[dilations=[1, 1], group=1, kernel_shape=[1, 1], pads=[0, 0, 0, 0], strides=[1, 1]](%444, %692, %693)\n",
      "  %447 : Float(1, 40, 28, 28, strides=[31360, 784, 28, 1], requires_grad=1, device=cuda:0) = onnx::Add(%691, %682) # /opt/anaconda/envs/pytorch/lib/python3.8/site-packages/timm/models/efficientnet_blocks.py:204:0\n",
      "  %694 : Float(1, 240, 28, 28, strides=[188160, 784, 28, 1], requires_grad=1, device=cuda:0) = onnx::Conv[dilations=[1, 1], group=1, kernel_shape=[1, 1], pads=[0, 0, 0, 0], strides=[1, 1]](%447, %695, %696)\n",
      "  %450 : Float(1, 240, 28, 28, strides=[188160, 784, 28, 1], device=cpu) = onnx::Sigmoid(%694)\n",
      "  %451 : Float(1, 240, 28, 28, strides=[188160, 784, 28, 1], requires_grad=1, device=cuda:0) = onnx::Mul(%694, %450) # /opt/anaconda/envs/pytorch/lib/python3.8/site-packages/torch/nn/functional.py:1897:0\n",
      "  %697 : Float(1, 240, 14, 14, strides=[47040, 196, 14, 1], requires_grad=1, device=cuda:0) = onnx::Conv[dilations=[1, 1], group=240, kernel_shape=[3, 3], pads=[1, 1, 1, 1], strides=[2, 2]](%451, %698, %699)\n",
      "  %454 : Float(1, 240, 14, 14, strides=[47040, 196, 14, 1], device=cpu) = onnx::Sigmoid(%697)\n",
      "  %455 : Float(1, 240, 14, 14, strides=[47040, 196, 14, 1], requires_grad=1, device=cuda:0) = onnx::Mul(%697, %454) # /opt/anaconda/envs/pytorch/lib/python3.8/site-packages/torch/nn/functional.py:1897:0\n",
      "  %456 : Float(1, 240, 1, 1, strides=[240, 1, 1, 1], requires_grad=1, device=cuda:0) = onnx::ReduceMean[axes=[2, 3], keepdims=1](%455) # /opt/anaconda/envs/pytorch/lib/python3.8/site-packages/timm/models/efficientnet_blocks.py:43:0\n",
      "  %457 : Float(1, 10, 1, 1, strides=[10, 1, 1, 1], requires_grad=1, device=cuda:0) = onnx::Conv[dilations=[1, 1], group=1, kernel_shape=[1, 1], pads=[0, 0, 0, 0], strides=[1, 1]](%456, %blocks.3.0.se.conv_reduce.weight, %blocks.3.0.se.conv_reduce.bias) # /opt/anaconda/envs/pytorch/lib/python3.8/site-packages/torch/nn/modules/conv.py:439:0\n",
      "  %458 : Float(1, 10, 1, 1, strides=[10, 1, 1, 1], device=cpu) = onnx::Sigmoid(%457)\n",
      "  %459 : Float(1, 10, 1, 1, strides=[10, 1, 1, 1], requires_grad=1, device=cuda:0) = onnx::Mul(%457, %458) # /opt/anaconda/envs/pytorch/lib/python3.8/site-packages/torch/nn/functional.py:1897:0\n",
      "  %460 : Float(1, 240, 1, 1, strides=[240, 1, 1, 1], requires_grad=1, device=cuda:0) = onnx::Conv[dilations=[1, 1], group=1, kernel_shape=[1, 1], pads=[0, 0, 0, 0], strides=[1, 1]](%459, %blocks.3.0.se.conv_expand.weight, %blocks.3.0.se.conv_expand.bias) # /opt/anaconda/envs/pytorch/lib/python3.8/site-packages/torch/nn/modules/conv.py:439:0\n",
      "  %461 : Float(1, 240, 1, 1, strides=[240, 1, 1, 1], requires_grad=1, device=cuda:0) = onnx::Sigmoid(%460) # /opt/anaconda/envs/pytorch/lib/python3.8/site-packages/torch/nn/modules/activation.py:299:0\n",
      "  %462 : Float(1, 240, 14, 14, strides=[47040, 196, 14, 1], requires_grad=1, device=cuda:0) = onnx::Mul(%455, %461) # /opt/anaconda/envs/pytorch/lib/python3.8/site-packages/timm/models/efficientnet_blocks.py:47:0\n",
      "  %700 : Float(1, 80, 14, 14, strides=[15680, 196, 14, 1], requires_grad=1, device=cuda:0) = onnx::Conv[dilations=[1, 1], group=1, kernel_shape=[1, 1], pads=[0, 0, 0, 0], strides=[1, 1]](%462, %701, %702)\n",
      "  %703 : Float(1, 480, 14, 14, strides=[94080, 196, 14, 1], requires_grad=1, device=cuda:0) = onnx::Conv[dilations=[1, 1], group=1, kernel_shape=[1, 1], pads=[0, 0, 0, 0], strides=[1, 1]](%700, %704, %705)\n",
      "  %467 : Float(1, 480, 14, 14, strides=[94080, 196, 14, 1], device=cpu) = onnx::Sigmoid(%703)\n",
      "  %468 : Float(1, 480, 14, 14, strides=[94080, 196, 14, 1], requires_grad=1, device=cuda:0) = onnx::Mul(%703, %467) # /opt/anaconda/envs/pytorch/lib/python3.8/site-packages/torch/nn/functional.py:1897:0\n",
      "  %706 : Float(1, 480, 14, 14, strides=[94080, 196, 14, 1], requires_grad=1, device=cuda:0) = onnx::Conv[dilations=[1, 1], group=480, kernel_shape=[3, 3], pads=[1, 1, 1, 1], strides=[1, 1]](%468, %707, %708)\n",
      "  %471 : Float(1, 480, 14, 14, strides=[94080, 196, 14, 1], device=cpu) = onnx::Sigmoid(%706)\n",
      "  %472 : Float(1, 480, 14, 14, strides=[94080, 196, 14, 1], requires_grad=1, device=cuda:0) = onnx::Mul(%706, %471) # /opt/anaconda/envs/pytorch/lib/python3.8/site-packages/torch/nn/functional.py:1897:0\n",
      "  %473 : Float(1, 480, 1, 1, strides=[480, 1, 1, 1], requires_grad=1, device=cuda:0) = onnx::ReduceMean[axes=[2, 3], keepdims=1](%472) # /opt/anaconda/envs/pytorch/lib/python3.8/site-packages/timm/models/efficientnet_blocks.py:43:0\n",
      "  %474 : Float(1, 20, 1, 1, strides=[20, 1, 1, 1], requires_grad=1, device=cuda:0) = onnx::Conv[dilations=[1, 1], group=1, kernel_shape=[1, 1], pads=[0, 0, 0, 0], strides=[1, 1]](%473, %blocks.3.1.se.conv_reduce.weight, %blocks.3.1.se.conv_reduce.bias) # /opt/anaconda/envs/pytorch/lib/python3.8/site-packages/torch/nn/modules/conv.py:439:0\n",
      "  %475 : Float(1, 20, 1, 1, strides=[20, 1, 1, 1], device=cpu) = onnx::Sigmoid(%474)\n",
      "  %476 : Float(1, 20, 1, 1, strides=[20, 1, 1, 1], requires_grad=1, device=cuda:0) = onnx::Mul(%474, %475) # /opt/anaconda/envs/pytorch/lib/python3.8/site-packages/torch/nn/functional.py:1897:0\n",
      "  %477 : Float(1, 480, 1, 1, strides=[480, 1, 1, 1], requires_grad=1, device=cuda:0) = onnx::Conv[dilations=[1, 1], group=1, kernel_shape=[1, 1], pads=[0, 0, 0, 0], strides=[1, 1]](%476, %blocks.3.1.se.conv_expand.weight, %blocks.3.1.se.conv_expand.bias) # /opt/anaconda/envs/pytorch/lib/python3.8/site-packages/torch/nn/modules/conv.py:439:0\n",
      "  %478 : Float(1, 480, 1, 1, strides=[480, 1, 1, 1], requires_grad=1, device=cuda:0) = onnx::Sigmoid(%477) # /opt/anaconda/envs/pytorch/lib/python3.8/site-packages/torch/nn/modules/activation.py:299:0\n",
      "  %479 : Float(1, 480, 14, 14, strides=[94080, 196, 14, 1], requires_grad=1, device=cuda:0) = onnx::Mul(%472, %478) # /opt/anaconda/envs/pytorch/lib/python3.8/site-packages/timm/models/efficientnet_blocks.py:47:0\n",
      "  %709 : Float(1, 80, 14, 14, strides=[15680, 196, 14, 1], requires_grad=1, device=cuda:0) = onnx::Conv[dilations=[1, 1], group=1, kernel_shape=[1, 1], pads=[0, 0, 0, 0], strides=[1, 1]](%479, %710, %711)\n",
      "  %482 : Float(1, 80, 14, 14, strides=[15680, 196, 14, 1], requires_grad=1, device=cuda:0) = onnx::Add(%709, %700)\n",
      "  %712 : Float(1, 480, 14, 14, strides=[94080, 196, 14, 1], requires_grad=1, device=cuda:0) = onnx::Conv[dilations=[1, 1], group=1, kernel_shape=[1, 1], pads=[0, 0, 0, 0], strides=[1, 1]](%482, %713, %714)\n",
      "  %485 : Float(1, 480, 14, 14, strides=[94080, 196, 14, 1], device=cpu) = onnx::Sigmoid(%712)\n",
      "  %486 : Float(1, 480, 14, 14, strides=[94080, 196, 14, 1], requires_grad=1, device=cuda:0) = onnx::Mul(%712, %485) # /opt/anaconda/envs/pytorch/lib/python3.8/site-packages/torch/nn/functional.py:1897:0\n",
      "  %715 : Float(1, 480, 14, 14, strides=[94080, 196, 14, 1], requires_grad=1, device=cuda:0) = onnx::Conv[dilations=[1, 1], group=480, kernel_shape=[3, 3], pads=[1, 1, 1, 1], strides=[1, 1]](%486, %716, %717)\n",
      "  %489 : Float(1, 480, 14, 14, strides=[94080, 196, 14, 1], device=cpu) = onnx::Sigmoid(%715)\n",
      "  %490 : Float(1, 480, 14, 14, strides=[94080, 196, 14, 1], requires_grad=1, device=cuda:0) = onnx::Mul(%715, %489) # /opt/anaconda/envs/pytorch/lib/python3.8/site-packages/torch/nn/functional.py:1897:0\n",
      "  %491 : Float(1, 480, 1, 1, strides=[480, 1, 1, 1], requires_grad=1, device=cuda:0) = onnx::ReduceMean[axes=[2, 3], keepdims=1](%490) # /opt/anaconda/envs/pytorch/lib/python3.8/site-packages/timm/models/efficientnet_blocks.py:43:0\n",
      "  %492 : Float(1, 20, 1, 1, strides=[20, 1, 1, 1], requires_grad=1, device=cuda:0) = onnx::Conv[dilations=[1, 1], group=1, kernel_shape=[1, 1], pads=[0, 0, 0, 0], strides=[1, 1]](%491, %blocks.3.2.se.conv_reduce.weight, %blocks.3.2.se.conv_reduce.bias) # /opt/anaconda/envs/pytorch/lib/python3.8/site-packages/torch/nn/modules/conv.py:439:0\n",
      "  %493 : Float(1, 20, 1, 1, strides=[20, 1, 1, 1], device=cpu) = onnx::Sigmoid(%492)\n",
      "  %494 : Float(1, 20, 1, 1, strides=[20, 1, 1, 1], requires_grad=1, device=cuda:0) = onnx::Mul(%492, %493) # /opt/anaconda/envs/pytorch/lib/python3.8/site-packages/torch/nn/functional.py:1897:0\n",
      "  %495 : Float(1, 480, 1, 1, strides=[480, 1, 1, 1], requires_grad=1, device=cuda:0) = onnx::Conv[dilations=[1, 1], group=1, kernel_shape=[1, 1], pads=[0, 0, 0, 0], strides=[1, 1]](%494, %blocks.3.2.se.conv_expand.weight, %blocks.3.2.se.conv_expand.bias) # /opt/anaconda/envs/pytorch/lib/python3.8/site-packages/torch/nn/modules/conv.py:439:0\n",
      "  %496 : Float(1, 480, 1, 1, strides=[480, 1, 1, 1], requires_grad=1, device=cuda:0) = onnx::Sigmoid(%495) # /opt/anaconda/envs/pytorch/lib/python3.8/site-packages/torch/nn/modules/activation.py:299:0\n",
      "  %497 : Float(1, 480, 14, 14, strides=[94080, 196, 14, 1], requires_grad=1, device=cuda:0) = onnx::Mul(%490, %496) # /opt/anaconda/envs/pytorch/lib/python3.8/site-packages/timm/models/efficientnet_blocks.py:47:0\n",
      "  %718 : Float(1, 80, 14, 14, strides=[15680, 196, 14, 1], requires_grad=1, device=cuda:0) = onnx::Conv[dilations=[1, 1], group=1, kernel_shape=[1, 1], pads=[0, 0, 0, 0], strides=[1, 1]](%497, %719, %720)\n",
      "  %500 : Float(1, 80, 14, 14, strides=[15680, 196, 14, 1], requires_grad=1, device=cuda:0) = onnx::Add(%718, %482) # /opt/anaconda/envs/pytorch/lib/python3.8/site-packages/timm/models/efficientnet_blocks.py:204:0\n",
      "  %721 : Float(1, 480, 14, 14, strides=[94080, 196, 14, 1], requires_grad=1, device=cuda:0) = onnx::Conv[dilations=[1, 1], group=1, kernel_shape=[1, 1], pads=[0, 0, 0, 0], strides=[1, 1]](%500, %722, %723)\n",
      "  %503 : Float(1, 480, 14, 14, strides=[94080, 196, 14, 1], device=cpu) = onnx::Sigmoid(%721)\n",
      "  %504 : Float(1, 480, 14, 14, strides=[94080, 196, 14, 1], requires_grad=1, device=cuda:0) = onnx::Mul(%721, %503) # /opt/anaconda/envs/pytorch/lib/python3.8/site-packages/torch/nn/functional.py:1897:0\n",
      "  %724 : Float(1, 480, 14, 14, strides=[94080, 196, 14, 1], requires_grad=1, device=cuda:0) = onnx::Conv[dilations=[1, 1], group=480, kernel_shape=[5, 5], pads=[2, 2, 2, 2], strides=[1, 1]](%504, %725, %726)\n",
      "  %507 : Float(1, 480, 14, 14, strides=[94080, 196, 14, 1], device=cpu) = onnx::Sigmoid(%724)\n",
      "  %508 : Float(1, 480, 14, 14, strides=[94080, 196, 14, 1], requires_grad=1, device=cuda:0) = onnx::Mul(%724, %507) # /opt/anaconda/envs/pytorch/lib/python3.8/site-packages/torch/nn/functional.py:1897:0\n",
      "  %509 : Float(1, 480, 1, 1, strides=[480, 1, 1, 1], requires_grad=1, device=cuda:0) = onnx::ReduceMean[axes=[2, 3], keepdims=1](%508) # /opt/anaconda/envs/pytorch/lib/python3.8/site-packages/timm/models/efficientnet_blocks.py:43:0\n",
      "  %510 : Float(1, 20, 1, 1, strides=[20, 1, 1, 1], requires_grad=1, device=cuda:0) = onnx::Conv[dilations=[1, 1], group=1, kernel_shape=[1, 1], pads=[0, 0, 0, 0], strides=[1, 1]](%509, %blocks.4.0.se.conv_reduce.weight, %blocks.4.0.se.conv_reduce.bias) # /opt/anaconda/envs/pytorch/lib/python3.8/site-packages/torch/nn/modules/conv.py:439:0\n",
      "  %511 : Float(1, 20, 1, 1, strides=[20, 1, 1, 1], device=cpu) = onnx::Sigmoid(%510)\n",
      "  %512 : Float(1, 20, 1, 1, strides=[20, 1, 1, 1], requires_grad=1, device=cuda:0) = onnx::Mul(%510, %511) # /opt/anaconda/envs/pytorch/lib/python3.8/site-packages/torch/nn/functional.py:1897:0\n",
      "  %513 : Float(1, 480, 1, 1, strides=[480, 1, 1, 1], requires_grad=1, device=cuda:0) = onnx::Conv[dilations=[1, 1], group=1, kernel_shape=[1, 1], pads=[0, 0, 0, 0], strides=[1, 1]](%512, %blocks.4.0.se.conv_expand.weight, %blocks.4.0.se.conv_expand.bias) # /opt/anaconda/envs/pytorch/lib/python3.8/site-packages/torch/nn/modules/conv.py:439:0\n",
      "  %514 : Float(1, 480, 1, 1, strides=[480, 1, 1, 1], requires_grad=1, device=cuda:0) = onnx::Sigmoid(%513) # /opt/anaconda/envs/pytorch/lib/python3.8/site-packages/torch/nn/modules/activation.py:299:0\n",
      "  %515 : Float(1, 480, 14, 14, strides=[94080, 196, 14, 1], requires_grad=1, device=cuda:0) = onnx::Mul(%508, %514) # /opt/anaconda/envs/pytorch/lib/python3.8/site-packages/timm/models/efficientnet_blocks.py:47:0\n",
      "  %727 : Float(1, 112, 14, 14, strides=[21952, 196, 14, 1], requires_grad=1, device=cuda:0) = onnx::Conv[dilations=[1, 1], group=1, kernel_shape=[1, 1], pads=[0, 0, 0, 0], strides=[1, 1]](%515, %728, %729)\n",
      "  %730 : Float(1, 672, 14, 14, strides=[131712, 196, 14, 1], requires_grad=1, device=cuda:0) = onnx::Conv[dilations=[1, 1], group=1, kernel_shape=[1, 1], pads=[0, 0, 0, 0], strides=[1, 1]](%727, %731, %732)\n",
      "  %520 : Float(1, 672, 14, 14, strides=[131712, 196, 14, 1], device=cpu) = onnx::Sigmoid(%730)\n",
      "  %521 : Float(1, 672, 14, 14, strides=[131712, 196, 14, 1], requires_grad=1, device=cuda:0) = onnx::Mul(%730, %520) # /opt/anaconda/envs/pytorch/lib/python3.8/site-packages/torch/nn/functional.py:1897:0\n",
      "  %733 : Float(1, 672, 14, 14, strides=[131712, 196, 14, 1], requires_grad=1, device=cuda:0) = onnx::Conv[dilations=[1, 1], group=672, kernel_shape=[5, 5], pads=[2, 2, 2, 2], strides=[1, 1]](%521, %734, %735)\n",
      "  %524 : Float(1, 672, 14, 14, strides=[131712, 196, 14, 1], device=cpu) = onnx::Sigmoid(%733)\n",
      "  %525 : Float(1, 672, 14, 14, strides=[131712, 196, 14, 1], requires_grad=1, device=cuda:0) = onnx::Mul(%733, %524) # /opt/anaconda/envs/pytorch/lib/python3.8/site-packages/torch/nn/functional.py:1897:0\n",
      "  %526 : Float(1, 672, 1, 1, strides=[672, 1, 1, 1], requires_grad=1, device=cuda:0) = onnx::ReduceMean[axes=[2, 3], keepdims=1](%525) # /opt/anaconda/envs/pytorch/lib/python3.8/site-packages/timm/models/efficientnet_blocks.py:43:0\n",
      "  %527 : Float(1, 28, 1, 1, strides=[28, 1, 1, 1], requires_grad=1, device=cuda:0) = onnx::Conv[dilations=[1, 1], group=1, kernel_shape=[1, 1], pads=[0, 0, 0, 0], strides=[1, 1]](%526, %blocks.4.1.se.conv_reduce.weight, %blocks.4.1.se.conv_reduce.bias) # /opt/anaconda/envs/pytorch/lib/python3.8/site-packages/torch/nn/modules/conv.py:439:0\n",
      "  %528 : Float(1, 28, 1, 1, strides=[28, 1, 1, 1], device=cpu) = onnx::Sigmoid(%527)\n",
      "  %529 : Float(1, 28, 1, 1, strides=[28, 1, 1, 1], requires_grad=1, device=cuda:0) = onnx::Mul(%527, %528) # /opt/anaconda/envs/pytorch/lib/python3.8/site-packages/torch/nn/functional.py:1897:0\n",
      "  %530 : Float(1, 672, 1, 1, strides=[672, 1, 1, 1], requires_grad=1, device=cuda:0) = onnx::Conv[dilations=[1, 1], group=1, kernel_shape=[1, 1], pads=[0, 0, 0, 0], strides=[1, 1]](%529, %blocks.4.1.se.conv_expand.weight, %blocks.4.1.se.conv_expand.bias) # /opt/anaconda/envs/pytorch/lib/python3.8/site-packages/torch/nn/modules/conv.py:439:0\n",
      "  %531 : Float(1, 672, 1, 1, strides=[672, 1, 1, 1], requires_grad=1, device=cuda:0) = onnx::Sigmoid(%530) # /opt/anaconda/envs/pytorch/lib/python3.8/site-packages/torch/nn/modules/activation.py:299:0\n",
      "  %532 : Float(1, 672, 14, 14, strides=[131712, 196, 14, 1], requires_grad=1, device=cuda:0) = onnx::Mul(%525, %531) # /opt/anaconda/envs/pytorch/lib/python3.8/site-packages/timm/models/efficientnet_blocks.py:47:0\n",
      "  %736 : Float(1, 112, 14, 14, strides=[21952, 196, 14, 1], requires_grad=1, device=cuda:0) = onnx::Conv[dilations=[1, 1], group=1, kernel_shape=[1, 1], pads=[0, 0, 0, 0], strides=[1, 1]](%532, %737, %738)\n",
      "  %535 : Float(1, 112, 14, 14, strides=[21952, 196, 14, 1], requires_grad=1, device=cuda:0) = onnx::Add(%736, %727)\n",
      "  %739 : Float(1, 672, 14, 14, strides=[131712, 196, 14, 1], requires_grad=1, device=cuda:0) = onnx::Conv[dilations=[1, 1], group=1, kernel_shape=[1, 1], pads=[0, 0, 0, 0], strides=[1, 1]](%535, %740, %741)\n",
      "  %538 : Float(1, 672, 14, 14, strides=[131712, 196, 14, 1], device=cpu) = onnx::Sigmoid(%739)\n",
      "  %539 : Float(1, 672, 14, 14, strides=[131712, 196, 14, 1], requires_grad=1, device=cuda:0) = onnx::Mul(%739, %538) # /opt/anaconda/envs/pytorch/lib/python3.8/site-packages/torch/nn/functional.py:1897:0\n",
      "  %742 : Float(1, 672, 14, 14, strides=[131712, 196, 14, 1], requires_grad=1, device=cuda:0) = onnx::Conv[dilations=[1, 1], group=672, kernel_shape=[5, 5], pads=[2, 2, 2, 2], strides=[1, 1]](%539, %743, %744)\n",
      "  %542 : Float(1, 672, 14, 14, strides=[131712, 196, 14, 1], device=cpu) = onnx::Sigmoid(%742)\n",
      "  %543 : Float(1, 672, 14, 14, strides=[131712, 196, 14, 1], requires_grad=1, device=cuda:0) = onnx::Mul(%742, %542) # /opt/anaconda/envs/pytorch/lib/python3.8/site-packages/torch/nn/functional.py:1897:0\n",
      "  %544 : Float(1, 672, 1, 1, strides=[672, 1, 1, 1], requires_grad=1, device=cuda:0) = onnx::ReduceMean[axes=[2, 3], keepdims=1](%543) # /opt/anaconda/envs/pytorch/lib/python3.8/site-packages/timm/models/efficientnet_blocks.py:43:0\n",
      "  %545 : Float(1, 28, 1, 1, strides=[28, 1, 1, 1], requires_grad=1, device=cuda:0) = onnx::Conv[dilations=[1, 1], group=1, kernel_shape=[1, 1], pads=[0, 0, 0, 0], strides=[1, 1]](%544, %blocks.4.2.se.conv_reduce.weight, %blocks.4.2.se.conv_reduce.bias) # /opt/anaconda/envs/pytorch/lib/python3.8/site-packages/torch/nn/modules/conv.py:439:0\n",
      "  %546 : Float(1, 28, 1, 1, strides=[28, 1, 1, 1], device=cpu) = onnx::Sigmoid(%545)\n",
      "  %547 : Float(1, 28, 1, 1, strides=[28, 1, 1, 1], requires_grad=1, device=cuda:0) = onnx::Mul(%545, %546) # /opt/anaconda/envs/pytorch/lib/python3.8/site-packages/torch/nn/functional.py:1897:0\n",
      "  %548 : Float(1, 672, 1, 1, strides=[672, 1, 1, 1], requires_grad=1, device=cuda:0) = onnx::Conv[dilations=[1, 1], group=1, kernel_shape=[1, 1], pads=[0, 0, 0, 0], strides=[1, 1]](%547, %blocks.4.2.se.conv_expand.weight, %blocks.4.2.se.conv_expand.bias) # /opt/anaconda/envs/pytorch/lib/python3.8/site-packages/torch/nn/modules/conv.py:439:0\n",
      "  %549 : Float(1, 672, 1, 1, strides=[672, 1, 1, 1], requires_grad=1, device=cuda:0) = onnx::Sigmoid(%548) # /opt/anaconda/envs/pytorch/lib/python3.8/site-packages/torch/nn/modules/activation.py:299:0\n",
      "  %550 : Float(1, 672, 14, 14, strides=[131712, 196, 14, 1], requires_grad=1, device=cuda:0) = onnx::Mul(%543, %549) # /opt/anaconda/envs/pytorch/lib/python3.8/site-packages/timm/models/efficientnet_blocks.py:47:0\n",
      "  %745 : Float(1, 112, 14, 14, strides=[21952, 196, 14, 1], requires_grad=1, device=cuda:0) = onnx::Conv[dilations=[1, 1], group=1, kernel_shape=[1, 1], pads=[0, 0, 0, 0], strides=[1, 1]](%550, %746, %747)\n",
      "  %553 : Float(1, 112, 14, 14, strides=[21952, 196, 14, 1], requires_grad=1, device=cuda:0) = onnx::Add(%745, %535) # /opt/anaconda/envs/pytorch/lib/python3.8/site-packages/timm/models/efficientnet_blocks.py:204:0\n",
      "  %748 : Float(1, 672, 14, 14, strides=[131712, 196, 14, 1], requires_grad=1, device=cuda:0) = onnx::Conv[dilations=[1, 1], group=1, kernel_shape=[1, 1], pads=[0, 0, 0, 0], strides=[1, 1]](%553, %749, %750)\n",
      "  %556 : Float(1, 672, 14, 14, strides=[131712, 196, 14, 1], device=cpu) = onnx::Sigmoid(%748)\n",
      "  %557 : Float(1, 672, 14, 14, strides=[131712, 196, 14, 1], requires_grad=1, device=cuda:0) = onnx::Mul(%748, %556) # /opt/anaconda/envs/pytorch/lib/python3.8/site-packages/torch/nn/functional.py:1897:0\n",
      "  %751 : Float(1, 672, 7, 7, strides=[32928, 49, 7, 1], requires_grad=1, device=cuda:0) = onnx::Conv[dilations=[1, 1], group=672, kernel_shape=[5, 5], pads=[2, 2, 2, 2], strides=[2, 2]](%557, %752, %753)\n",
      "  %560 : Float(1, 672, 7, 7, strides=[32928, 49, 7, 1], device=cpu) = onnx::Sigmoid(%751)\n",
      "  %561 : Float(1, 672, 7, 7, strides=[32928, 49, 7, 1], requires_grad=1, device=cuda:0) = onnx::Mul(%751, %560) # /opt/anaconda/envs/pytorch/lib/python3.8/site-packages/torch/nn/functional.py:1897:0\n",
      "  %562 : Float(1, 672, 1, 1, strides=[672, 1, 1, 1], requires_grad=1, device=cuda:0) = onnx::ReduceMean[axes=[2, 3], keepdims=1](%561) # /opt/anaconda/envs/pytorch/lib/python3.8/site-packages/timm/models/efficientnet_blocks.py:43:0\n",
      "  %563 : Float(1, 28, 1, 1, strides=[28, 1, 1, 1], requires_grad=1, device=cuda:0) = onnx::Conv[dilations=[1, 1], group=1, kernel_shape=[1, 1], pads=[0, 0, 0, 0], strides=[1, 1]](%562, %blocks.5.0.se.conv_reduce.weight, %blocks.5.0.se.conv_reduce.bias) # /opt/anaconda/envs/pytorch/lib/python3.8/site-packages/torch/nn/modules/conv.py:439:0\n",
      "  %564 : Float(1, 28, 1, 1, strides=[28, 1, 1, 1], device=cpu) = onnx::Sigmoid(%563)\n",
      "  %565 : Float(1, 28, 1, 1, strides=[28, 1, 1, 1], requires_grad=1, device=cuda:0) = onnx::Mul(%563, %564) # /opt/anaconda/envs/pytorch/lib/python3.8/site-packages/torch/nn/functional.py:1897:0\n",
      "  %566 : Float(1, 672, 1, 1, strides=[672, 1, 1, 1], requires_grad=1, device=cuda:0) = onnx::Conv[dilations=[1, 1], group=1, kernel_shape=[1, 1], pads=[0, 0, 0, 0], strides=[1, 1]](%565, %blocks.5.0.se.conv_expand.weight, %blocks.5.0.se.conv_expand.bias) # /opt/anaconda/envs/pytorch/lib/python3.8/site-packages/torch/nn/modules/conv.py:439:0\n",
      "  %567 : Float(1, 672, 1, 1, strides=[672, 1, 1, 1], requires_grad=1, device=cuda:0) = onnx::Sigmoid(%566) # /opt/anaconda/envs/pytorch/lib/python3.8/site-packages/torch/nn/modules/activation.py:299:0\n",
      "  %568 : Float(1, 672, 7, 7, strides=[32928, 49, 7, 1], requires_grad=1, device=cuda:0) = onnx::Mul(%561, %567) # /opt/anaconda/envs/pytorch/lib/python3.8/site-packages/timm/models/efficientnet_blocks.py:47:0\n",
      "  %754 : Float(1, 192, 7, 7, strides=[9408, 49, 7, 1], requires_grad=1, device=cuda:0) = onnx::Conv[dilations=[1, 1], group=1, kernel_shape=[1, 1], pads=[0, 0, 0, 0], strides=[1, 1]](%568, %755, %756)\n",
      "  %757 : Float(1, 1152, 7, 7, strides=[56448, 49, 7, 1], requires_grad=1, device=cuda:0) = onnx::Conv[dilations=[1, 1], group=1, kernel_shape=[1, 1], pads=[0, 0, 0, 0], strides=[1, 1]](%754, %758, %759)\n",
      "  %573 : Float(1, 1152, 7, 7, strides=[56448, 49, 7, 1], device=cpu) = onnx::Sigmoid(%757)\n",
      "  %574 : Float(1, 1152, 7, 7, strides=[56448, 49, 7, 1], requires_grad=1, device=cuda:0) = onnx::Mul(%757, %573) # /opt/anaconda/envs/pytorch/lib/python3.8/site-packages/torch/nn/functional.py:1897:0\n",
      "  %760 : Float(1, 1152, 7, 7, strides=[56448, 49, 7, 1], requires_grad=1, device=cuda:0) = onnx::Conv[dilations=[1, 1], group=1152, kernel_shape=[5, 5], pads=[2, 2, 2, 2], strides=[1, 1]](%574, %761, %762)\n",
      "  %577 : Float(1, 1152, 7, 7, strides=[56448, 49, 7, 1], device=cpu) = onnx::Sigmoid(%760)\n",
      "  %578 : Float(1, 1152, 7, 7, strides=[56448, 49, 7, 1], requires_grad=1, device=cuda:0) = onnx::Mul(%760, %577) # /opt/anaconda/envs/pytorch/lib/python3.8/site-packages/torch/nn/functional.py:1897:0\n",
      "  %579 : Float(1, 1152, 1, 1, strides=[1152, 1, 1, 1], requires_grad=1, device=cuda:0) = onnx::ReduceMean[axes=[2, 3], keepdims=1](%578) # /opt/anaconda/envs/pytorch/lib/python3.8/site-packages/timm/models/efficientnet_blocks.py:43:0\n",
      "  %580 : Float(1, 48, 1, 1, strides=[48, 1, 1, 1], requires_grad=1, device=cuda:0) = onnx::Conv[dilations=[1, 1], group=1, kernel_shape=[1, 1], pads=[0, 0, 0, 0], strides=[1, 1]](%579, %blocks.5.1.se.conv_reduce.weight, %blocks.5.1.se.conv_reduce.bias) # /opt/anaconda/envs/pytorch/lib/python3.8/site-packages/torch/nn/modules/conv.py:439:0\n",
      "  %581 : Float(1, 48, 1, 1, strides=[48, 1, 1, 1], device=cpu) = onnx::Sigmoid(%580)\n",
      "  %582 : Float(1, 48, 1, 1, strides=[48, 1, 1, 1], requires_grad=1, device=cuda:0) = onnx::Mul(%580, %581) # /opt/anaconda/envs/pytorch/lib/python3.8/site-packages/torch/nn/functional.py:1897:0\n",
      "  %583 : Float(1, 1152, 1, 1, strides=[1152, 1, 1, 1], requires_grad=1, device=cuda:0) = onnx::Conv[dilations=[1, 1], group=1, kernel_shape=[1, 1], pads=[0, 0, 0, 0], strides=[1, 1]](%582, %blocks.5.1.se.conv_expand.weight, %blocks.5.1.se.conv_expand.bias) # /opt/anaconda/envs/pytorch/lib/python3.8/site-packages/torch/nn/modules/conv.py:439:0\n",
      "  %584 : Float(1, 1152, 1, 1, strides=[1152, 1, 1, 1], requires_grad=1, device=cuda:0) = onnx::Sigmoid(%583) # /opt/anaconda/envs/pytorch/lib/python3.8/site-packages/torch/nn/modules/activation.py:299:0\n",
      "  %585 : Float(1, 1152, 7, 7, strides=[56448, 49, 7, 1], requires_grad=1, device=cuda:0) = onnx::Mul(%578, %584) # /opt/anaconda/envs/pytorch/lib/python3.8/site-packages/timm/models/efficientnet_blocks.py:47:0\n",
      "  %763 : Float(1, 192, 7, 7, strides=[9408, 49, 7, 1], requires_grad=1, device=cuda:0) = onnx::Conv[dilations=[1, 1], group=1, kernel_shape=[1, 1], pads=[0, 0, 0, 0], strides=[1, 1]](%585, %764, %765)\n",
      "  %588 : Float(1, 192, 7, 7, strides=[9408, 49, 7, 1], requires_grad=1, device=cuda:0) = onnx::Add(%763, %754)\n",
      "  %766 : Float(1, 1152, 7, 7, strides=[56448, 49, 7, 1], requires_grad=1, device=cuda:0) = onnx::Conv[dilations=[1, 1], group=1, kernel_shape=[1, 1], pads=[0, 0, 0, 0], strides=[1, 1]](%588, %767, %768)\n",
      "  %591 : Float(1, 1152, 7, 7, strides=[56448, 49, 7, 1], device=cpu) = onnx::Sigmoid(%766)\n",
      "  %592 : Float(1, 1152, 7, 7, strides=[56448, 49, 7, 1], requires_grad=1, device=cuda:0) = onnx::Mul(%766, %591) # /opt/anaconda/envs/pytorch/lib/python3.8/site-packages/torch/nn/functional.py:1897:0\n",
      "  %769 : Float(1, 1152, 7, 7, strides=[56448, 49, 7, 1], requires_grad=1, device=cuda:0) = onnx::Conv[dilations=[1, 1], group=1152, kernel_shape=[5, 5], pads=[2, 2, 2, 2], strides=[1, 1]](%592, %770, %771)\n",
      "  %595 : Float(1, 1152, 7, 7, strides=[56448, 49, 7, 1], device=cpu) = onnx::Sigmoid(%769)\n",
      "  %596 : Float(1, 1152, 7, 7, strides=[56448, 49, 7, 1], requires_grad=1, device=cuda:0) = onnx::Mul(%769, %595) # /opt/anaconda/envs/pytorch/lib/python3.8/site-packages/torch/nn/functional.py:1897:0\n",
      "  %597 : Float(1, 1152, 1, 1, strides=[1152, 1, 1, 1], requires_grad=1, device=cuda:0) = onnx::ReduceMean[axes=[2, 3], keepdims=1](%596) # /opt/anaconda/envs/pytorch/lib/python3.8/site-packages/timm/models/efficientnet_blocks.py:43:0\n",
      "  %598 : Float(1, 48, 1, 1, strides=[48, 1, 1, 1], requires_grad=1, device=cuda:0) = onnx::Conv[dilations=[1, 1], group=1, kernel_shape=[1, 1], pads=[0, 0, 0, 0], strides=[1, 1]](%597, %blocks.5.2.se.conv_reduce.weight, %blocks.5.2.se.conv_reduce.bias) # /opt/anaconda/envs/pytorch/lib/python3.8/site-packages/torch/nn/modules/conv.py:439:0\n",
      "  %599 : Float(1, 48, 1, 1, strides=[48, 1, 1, 1], device=cpu) = onnx::Sigmoid(%598)\n",
      "  %600 : Float(1, 48, 1, 1, strides=[48, 1, 1, 1], requires_grad=1, device=cuda:0) = onnx::Mul(%598, %599) # /opt/anaconda/envs/pytorch/lib/python3.8/site-packages/torch/nn/functional.py:1897:0\n",
      "  %601 : Float(1, 1152, 1, 1, strides=[1152, 1, 1, 1], requires_grad=1, device=cuda:0) = onnx::Conv[dilations=[1, 1], group=1, kernel_shape=[1, 1], pads=[0, 0, 0, 0], strides=[1, 1]](%600, %blocks.5.2.se.conv_expand.weight, %blocks.5.2.se.conv_expand.bias) # /opt/anaconda/envs/pytorch/lib/python3.8/site-packages/torch/nn/modules/conv.py:439:0\n",
      "  %602 : Float(1, 1152, 1, 1, strides=[1152, 1, 1, 1], requires_grad=1, device=cuda:0) = onnx::Sigmoid(%601) # /opt/anaconda/envs/pytorch/lib/python3.8/site-packages/torch/nn/modules/activation.py:299:0\n",
      "  %603 : Float(1, 1152, 7, 7, strides=[56448, 49, 7, 1], requires_grad=1, device=cuda:0) = onnx::Mul(%596, %602) # /opt/anaconda/envs/pytorch/lib/python3.8/site-packages/timm/models/efficientnet_blocks.py:47:0\n",
      "  %772 : Float(1, 192, 7, 7, strides=[9408, 49, 7, 1], requires_grad=1, device=cuda:0) = onnx::Conv[dilations=[1, 1], group=1, kernel_shape=[1, 1], pads=[0, 0, 0, 0], strides=[1, 1]](%603, %773, %774)\n",
      "  %606 : Float(1, 192, 7, 7, strides=[9408, 49, 7, 1], requires_grad=1, device=cuda:0) = onnx::Add(%772, %588)\n",
      "  %775 : Float(1, 1152, 7, 7, strides=[56448, 49, 7, 1], requires_grad=1, device=cuda:0) = onnx::Conv[dilations=[1, 1], group=1, kernel_shape=[1, 1], pads=[0, 0, 0, 0], strides=[1, 1]](%606, %776, %777)\n",
      "  %609 : Float(1, 1152, 7, 7, strides=[56448, 49, 7, 1], device=cpu) = onnx::Sigmoid(%775)\n",
      "  %610 : Float(1, 1152, 7, 7, strides=[56448, 49, 7, 1], requires_grad=1, device=cuda:0) = onnx::Mul(%775, %609) # /opt/anaconda/envs/pytorch/lib/python3.8/site-packages/torch/nn/functional.py:1897:0\n",
      "  %778 : Float(1, 1152, 7, 7, strides=[56448, 49, 7, 1], requires_grad=1, device=cuda:0) = onnx::Conv[dilations=[1, 1], group=1152, kernel_shape=[5, 5], pads=[2, 2, 2, 2], strides=[1, 1]](%610, %779, %780)\n",
      "  %613 : Float(1, 1152, 7, 7, strides=[56448, 49, 7, 1], device=cpu) = onnx::Sigmoid(%778)\n",
      "  %614 : Float(1, 1152, 7, 7, strides=[56448, 49, 7, 1], requires_grad=1, device=cuda:0) = onnx::Mul(%778, %613) # /opt/anaconda/envs/pytorch/lib/python3.8/site-packages/torch/nn/functional.py:1897:0\n",
      "  %615 : Float(1, 1152, 1, 1, strides=[1152, 1, 1, 1], requires_grad=1, device=cuda:0) = onnx::ReduceMean[axes=[2, 3], keepdims=1](%614) # /opt/anaconda/envs/pytorch/lib/python3.8/site-packages/timm/models/efficientnet_blocks.py:43:0\n",
      "  %616 : Float(1, 48, 1, 1, strides=[48, 1, 1, 1], requires_grad=1, device=cuda:0) = onnx::Conv[dilations=[1, 1], group=1, kernel_shape=[1, 1], pads=[0, 0, 0, 0], strides=[1, 1]](%615, %blocks.5.3.se.conv_reduce.weight, %blocks.5.3.se.conv_reduce.bias) # /opt/anaconda/envs/pytorch/lib/python3.8/site-packages/torch/nn/modules/conv.py:439:0\n",
      "  %617 : Float(1, 48, 1, 1, strides=[48, 1, 1, 1], device=cpu) = onnx::Sigmoid(%616)\n",
      "  %618 : Float(1, 48, 1, 1, strides=[48, 1, 1, 1], requires_grad=1, device=cuda:0) = onnx::Mul(%616, %617) # /opt/anaconda/envs/pytorch/lib/python3.8/site-packages/torch/nn/functional.py:1897:0\n",
      "  %619 : Float(1, 1152, 1, 1, strides=[1152, 1, 1, 1], requires_grad=1, device=cuda:0) = onnx::Conv[dilations=[1, 1], group=1, kernel_shape=[1, 1], pads=[0, 0, 0, 0], strides=[1, 1]](%618, %blocks.5.3.se.conv_expand.weight, %blocks.5.3.se.conv_expand.bias) # /opt/anaconda/envs/pytorch/lib/python3.8/site-packages/torch/nn/modules/conv.py:439:0\n",
      "  %620 : Float(1, 1152, 1, 1, strides=[1152, 1, 1, 1], requires_grad=1, device=cuda:0) = onnx::Sigmoid(%619) # /opt/anaconda/envs/pytorch/lib/python3.8/site-packages/torch/nn/modules/activation.py:299:0\n",
      "  %621 : Float(1, 1152, 7, 7, strides=[56448, 49, 7, 1], requires_grad=1, device=cuda:0) = onnx::Mul(%614, %620) # /opt/anaconda/envs/pytorch/lib/python3.8/site-packages/timm/models/efficientnet_blocks.py:47:0\n",
      "  %781 : Float(1, 192, 7, 7, strides=[9408, 49, 7, 1], requires_grad=1, device=cuda:0) = onnx::Conv[dilations=[1, 1], group=1, kernel_shape=[1, 1], pads=[0, 0, 0, 0], strides=[1, 1]](%621, %782, %783)\n",
      "  %624 : Float(1, 192, 7, 7, strides=[9408, 49, 7, 1], requires_grad=1, device=cuda:0) = onnx::Add(%781, %606) # /opt/anaconda/envs/pytorch/lib/python3.8/site-packages/timm/models/efficientnet_blocks.py:204:0\n",
      "  %784 : Float(1, 1152, 7, 7, strides=[56448, 49, 7, 1], requires_grad=1, device=cuda:0) = onnx::Conv[dilations=[1, 1], group=1, kernel_shape=[1, 1], pads=[0, 0, 0, 0], strides=[1, 1]](%624, %785, %786)\n",
      "  %627 : Float(1, 1152, 7, 7, strides=[56448, 49, 7, 1], device=cpu) = onnx::Sigmoid(%784)\n",
      "  %628 : Float(1, 1152, 7, 7, strides=[56448, 49, 7, 1], requires_grad=1, device=cuda:0) = onnx::Mul(%784, %627) # /opt/anaconda/envs/pytorch/lib/python3.8/site-packages/torch/nn/functional.py:1897:0\n",
      "  %787 : Float(1, 1152, 7, 7, strides=[56448, 49, 7, 1], requires_grad=1, device=cuda:0) = onnx::Conv[dilations=[1, 1], group=1152, kernel_shape=[3, 3], pads=[1, 1, 1, 1], strides=[1, 1]](%628, %788, %789)\n",
      "  %631 : Float(1, 1152, 7, 7, strides=[56448, 49, 7, 1], device=cpu) = onnx::Sigmoid(%787)\n",
      "  %632 : Float(1, 1152, 7, 7, strides=[56448, 49, 7, 1], requires_grad=1, device=cuda:0) = onnx::Mul(%787, %631) # /opt/anaconda/envs/pytorch/lib/python3.8/site-packages/torch/nn/functional.py:1897:0\n",
      "  %633 : Float(1, 1152, 1, 1, strides=[1152, 1, 1, 1], requires_grad=1, device=cuda:0) = onnx::ReduceMean[axes=[2, 3], keepdims=1](%632) # /opt/anaconda/envs/pytorch/lib/python3.8/site-packages/timm/models/efficientnet_blocks.py:43:0\n",
      "  %634 : Float(1, 48, 1, 1, strides=[48, 1, 1, 1], requires_grad=1, device=cuda:0) = onnx::Conv[dilations=[1, 1], group=1, kernel_shape=[1, 1], pads=[0, 0, 0, 0], strides=[1, 1]](%633, %blocks.6.0.se.conv_reduce.weight, %blocks.6.0.se.conv_reduce.bias) # /opt/anaconda/envs/pytorch/lib/python3.8/site-packages/torch/nn/modules/conv.py:439:0\n",
      "  %635 : Float(1, 48, 1, 1, strides=[48, 1, 1, 1], device=cpu) = onnx::Sigmoid(%634)\n",
      "  %636 : Float(1, 48, 1, 1, strides=[48, 1, 1, 1], requires_grad=1, device=cuda:0) = onnx::Mul(%634, %635) # /opt/anaconda/envs/pytorch/lib/python3.8/site-packages/torch/nn/functional.py:1897:0\n",
      "  %637 : Float(1, 1152, 1, 1, strides=[1152, 1, 1, 1], requires_grad=1, device=cuda:0) = onnx::Conv[dilations=[1, 1], group=1, kernel_shape=[1, 1], pads=[0, 0, 0, 0], strides=[1, 1]](%636, %blocks.6.0.se.conv_expand.weight, %blocks.6.0.se.conv_expand.bias) # /opt/anaconda/envs/pytorch/lib/python3.8/site-packages/torch/nn/modules/conv.py:439:0\n",
      "  %638 : Float(1, 1152, 1, 1, strides=[1152, 1, 1, 1], requires_grad=1, device=cuda:0) = onnx::Sigmoid(%637) # /opt/anaconda/envs/pytorch/lib/python3.8/site-packages/torch/nn/modules/activation.py:299:0\n",
      "  %639 : Float(1, 1152, 7, 7, strides=[56448, 49, 7, 1], requires_grad=1, device=cuda:0) = onnx::Mul(%632, %638) # /opt/anaconda/envs/pytorch/lib/python3.8/site-packages/timm/models/efficientnet_blocks.py:47:0\n",
      "  %790 : Float(1, 320, 7, 7, strides=[15680, 49, 7, 1], requires_grad=1, device=cuda:0) = onnx::Conv[dilations=[1, 1], group=1, kernel_shape=[1, 1], pads=[0, 0, 0, 0], strides=[1, 1]](%639, %791, %792)\n",
      "  %793 : Float(1, 1280, 7, 7, strides=[62720, 49, 7, 1], requires_grad=1, device=cuda:0) = onnx::Conv[dilations=[1, 1], group=1, kernel_shape=[1, 1], pads=[0, 0, 0, 0], strides=[1, 1]](%790, %794, %795)\n",
      "  %644 : Float(1, 1280, 7, 7, strides=[62720, 49, 7, 1], device=cpu) = onnx::Sigmoid(%793)\n",
      "  %645 : Float(1, 1280, 7, 7, strides=[62720, 49, 7, 1], requires_grad=1, device=cuda:0) = onnx::Mul(%793, %644) # /opt/anaconda/envs/pytorch/lib/python3.8/site-packages/torch/nn/functional.py:1897:0\n",
      "  %646 : Float(1, 1280, 1, 1, strides=[1280, 1, 1, 1], requires_grad=1, device=cuda:0) = onnx::GlobalAveragePool(%645) # /opt/anaconda/envs/pytorch/lib/python3.8/site-packages/torch/nn/functional.py:1130:0\n",
      "  %647 : Float(1, 1280, strides=[1280, 1], requires_grad=1, device=cuda:0) = onnx::Flatten[axis=1](%646) # /opt/anaconda/envs/pytorch/lib/python3.8/site-packages/torch/nn/modules/flatten.py:40:0\n",
      "  %648 : Float(1, 2, strides=[2, 1], requires_grad=1, device=cuda:0) = onnx::Gemm[alpha=1., beta=1., transB=1](%647, %classifier.weight, %classifier.bias) # /opt/anaconda/envs/pytorch/lib/python3.8/site-packages/torch/nn/functional.py:1847:0\n",
      "  return (%648)\n",
      "\n"
     ]
    }
   ],
   "metadata": {}
  },
  {
   "cell_type": "markdown",
   "source": [
    "## Get the input/ouput layer names "
   ],
   "metadata": {}
  },
  {
   "cell_type": "code",
   "execution_count": 6,
   "source": [
    "model = onnx.load('cat.onnx')\n",
    "output =[node.name for node in model.graph.output]\n",
    "\n",
    "input_all = [node.name for node in model.graph.input]\n",
    "input_initializer =  [node.name for node in model.graph.initializer]\n",
    "net_feed_input = list(set(input_all)  - set(input_initializer))\n",
    "\n",
    "print('Inputs: ', net_feed_input)\n",
    "print('Outputs: ', output)"
   ],
   "outputs": [
    {
     "output_type": "stream",
     "name": "stdout",
     "text": [
      "Inputs:  ['input.1']\n",
      "Outputs:  ['648']\n"
     ]
    }
   ],
   "metadata": {}
  },
  {
   "cell_type": "markdown",
   "source": [
    "### Test the onnx file"
   ],
   "metadata": {}
  },
  {
   "cell_type": "code",
   "execution_count": 7,
   "source": [
    "import numpy as np\n",
    "import onnxruntime as ort\n",
    "sess = ort.InferenceSession('horse_zebra.onnx')\n",
    "\n",
    "input_name = sess.get_inputs()[0].name\n",
    "label_name = sess.get_outputs()[0].name\n",
    "pred_onx = sess.run([label_name], {input_name: np.zeros((1, 3, 224,224), dtype=np.float32)})[0]\n",
    "print(pred_onx)"
   ],
   "outputs": [
    {
     "output_type": "stream",
     "name": "stdout",
     "text": [
      "[[0.0052179  0.38679034]]\n"
     ]
    }
   ],
   "metadata": {}
  },
  {
   "cell_type": "code",
   "execution_count": null,
   "source": [],
   "outputs": [],
   "metadata": {}
  },
  {
   "cell_type": "code",
   "execution_count": 42,
   "source": [
    "requests.post('/predict', json = {'input' : json.dumps(im.tolist())})\n",
    "class InputIn(BaseModel):\n",
    "    input : str\n",
    "\n",
    "@app.post('/')\n",
    "asyc def predict(inp : InputIn):\n",
    "    ...\n",
    "    inp = np.array(json.loads(inp.input))\n",
    "    sess.run...()\n"
   ],
   "outputs": [
    {
     "output_type": "execute_result",
     "data": {
      "text/plain": [
       "tensor([[[[1., 1., 1.,  ..., 1., 1., 1.],\n",
       "          [1., 1., 1.,  ..., 1., 1., 1.],\n",
       "          [1., 1., 1.,  ..., 1., 1., 1.],\n",
       "          ...,\n",
       "          [1., 1., 1.,  ..., 1., 1., 1.],\n",
       "          [1., 1., 1.,  ..., 1., 1., 1.],\n",
       "          [1., 1., 1.,  ..., 1., 1., 1.]],\n",
       "\n",
       "         [[1., 1., 1.,  ..., 1., 1., 1.],\n",
       "          [1., 1., 1.,  ..., 1., 1., 1.],\n",
       "          [1., 1., 1.,  ..., 1., 1., 1.],\n",
       "          ...,\n",
       "          [1., 1., 1.,  ..., 1., 1., 1.],\n",
       "          [1., 1., 1.,  ..., 1., 1., 1.],\n",
       "          [1., 1., 1.,  ..., 1., 1., 1.]],\n",
       "\n",
       "         [[1., 1., 1.,  ..., 1., 1., 1.],\n",
       "          [1., 1., 1.,  ..., 1., 1., 1.],\n",
       "          [1., 1., 1.,  ..., 1., 1., 1.],\n",
       "          ...,\n",
       "          [1., 1., 1.,  ..., 1., 1., 1.],\n",
       "          [1., 1., 1.,  ..., 1., 1., 1.],\n",
       "          [1., 1., 1.,  ..., 1., 1., 1.]]]], device='cuda:0')"
      ]
     },
     "metadata": {},
     "execution_count": 42
    }
   ],
   "metadata": {}
  },
  {
   "cell_type": "code",
   "execution_count": null,
   "source": [
    "torch.onnx.export()"
   ],
   "outputs": [],
   "metadata": {}
  },
  {
   "cell_type": "code",
   "execution_count": null,
   "source": [
    "requests.post('sds:/predict', data)"
   ],
   "outputs": [],
   "metadata": {}
  },
  {
   "cell_type": "code",
   "execution_count": 2,
   "source": [
    "import sys\n",
    "sys.path.append('cat-v-dog-classifier-pytorch')"
   ],
   "outputs": [],
   "metadata": {}
  },
  {
   "cell_type": "code",
   "execution_count": 3,
   "source": [
    "import torch\n",
    "from utils.helpers import *\n",
    "import warnings\n",
    "from PIL import Image\n",
    "from torchvision import transforms"
   ],
   "outputs": [],
   "metadata": {}
  },
  {
   "cell_type": "code",
   "execution_count": 4,
   "source": [
    "model_path = 'catvdog.pth'\n",
    "model = load_model(model_path)"
   ],
   "outputs": [
    {
     "output_type": "stream",
     "name": "stderr",
     "text": [
      "/opt/anaconda/envs/pytorch/lib/python3.8/site-packages/torch/serialization.py:671: SourceChangeWarning: source code of class 'torchvision.models.densenet.DenseNet' has changed. you can retrieve the original source code by accessing the object's source attribute or set `torch.nn.Module.dump_patches = True` and use the patch tool to revert the changes.\n",
      "  warnings.warn(msg, SourceChangeWarning)\n",
      "/opt/anaconda/envs/pytorch/lib/python3.8/site-packages/torch/serialization.py:671: SourceChangeWarning: source code of class 'torch.nn.modules.container.Sequential' has changed. you can retrieve the original source code by accessing the object's source attribute or set `torch.nn.Module.dump_patches = True` and use the patch tool to revert the changes.\n",
      "  warnings.warn(msg, SourceChangeWarning)\n",
      "/opt/anaconda/envs/pytorch/lib/python3.8/site-packages/torch/serialization.py:671: SourceChangeWarning: source code of class 'torch.nn.modules.conv.Conv2d' has changed. you can retrieve the original source code by accessing the object's source attribute or set `torch.nn.Module.dump_patches = True` and use the patch tool to revert the changes.\n",
      "  warnings.warn(msg, SourceChangeWarning)\n",
      "/opt/anaconda/envs/pytorch/lib/python3.8/site-packages/torch/serialization.py:671: SourceChangeWarning: source code of class 'torch.nn.modules.batchnorm.BatchNorm2d' has changed. you can retrieve the original source code by accessing the object's source attribute or set `torch.nn.Module.dump_patches = True` and use the patch tool to revert the changes.\n",
      "  warnings.warn(msg, SourceChangeWarning)\n",
      "/opt/anaconda/envs/pytorch/lib/python3.8/site-packages/torch/serialization.py:671: SourceChangeWarning: source code of class 'torch.nn.modules.activation.ReLU' has changed. you can retrieve the original source code by accessing the object's source attribute or set `torch.nn.Module.dump_patches = True` and use the patch tool to revert the changes.\n",
      "  warnings.warn(msg, SourceChangeWarning)\n",
      "/opt/anaconda/envs/pytorch/lib/python3.8/site-packages/torch/serialization.py:671: SourceChangeWarning: source code of class 'torch.nn.modules.pooling.MaxPool2d' has changed. you can retrieve the original source code by accessing the object's source attribute or set `torch.nn.Module.dump_patches = True` and use the patch tool to revert the changes.\n",
      "  warnings.warn(msg, SourceChangeWarning)\n",
      "/opt/anaconda/envs/pytorch/lib/python3.8/site-packages/torch/serialization.py:671: SourceChangeWarning: source code of class 'torchvision.models.densenet._DenseBlock' has changed. you can retrieve the original source code by accessing the object's source attribute or set `torch.nn.Module.dump_patches = True` and use the patch tool to revert the changes.\n",
      "  warnings.warn(msg, SourceChangeWarning)\n",
      "/opt/anaconda/envs/pytorch/lib/python3.8/site-packages/torch/serialization.py:671: SourceChangeWarning: source code of class 'torchvision.models.densenet._DenseLayer' has changed. you can retrieve the original source code by accessing the object's source attribute or set `torch.nn.Module.dump_patches = True` and use the patch tool to revert the changes.\n",
      "  warnings.warn(msg, SourceChangeWarning)\n",
      "/opt/anaconda/envs/pytorch/lib/python3.8/site-packages/torch/serialization.py:671: SourceChangeWarning: source code of class 'torchvision.models.densenet._Transition' has changed. you can retrieve the original source code by accessing the object's source attribute or set `torch.nn.Module.dump_patches = True` and use the patch tool to revert the changes.\n",
      "  warnings.warn(msg, SourceChangeWarning)\n",
      "/opt/anaconda/envs/pytorch/lib/python3.8/site-packages/torch/serialization.py:671: SourceChangeWarning: source code of class 'torch.nn.modules.pooling.AvgPool2d' has changed. you can retrieve the original source code by accessing the object's source attribute or set `torch.nn.Module.dump_patches = True` and use the patch tool to revert the changes.\n",
      "  warnings.warn(msg, SourceChangeWarning)\n",
      "/opt/anaconda/envs/pytorch/lib/python3.8/site-packages/torch/serialization.py:671: SourceChangeWarning: source code of class 'torch.nn.modules.linear.Linear' has changed. you can retrieve the original source code by accessing the object's source attribute or set `torch.nn.Module.dump_patches = True` and use the patch tool to revert the changes.\n",
      "  warnings.warn(msg, SourceChangeWarning)\n",
      "/opt/anaconda/envs/pytorch/lib/python3.8/site-packages/torch/serialization.py:671: SourceChangeWarning: source code of class 'torch.nn.modules.dropout.Dropout' has changed. you can retrieve the original source code by accessing the object's source attribute or set `torch.nn.Module.dump_patches = True` and use the patch tool to revert the changes.\n",
      "  warnings.warn(msg, SourceChangeWarning)\n",
      "/opt/anaconda/envs/pytorch/lib/python3.8/site-packages/torch/serialization.py:671: SourceChangeWarning: source code of class 'torch.nn.modules.activation.LogSoftmax' has changed. you can retrieve the original source code by accessing the object's source attribute or set `torch.nn.Module.dump_patches = True` and use the patch tool to revert the changes.\n",
      "  warnings.warn(msg, SourceChangeWarning)\n"
     ]
    }
   ],
   "metadata": {}
  },
  {
   "cell_type": "code",
   "execution_count": 10,
   "source": [
    "def image_transform(imagepath):\n",
    "    test_transforms = transforms.Compose([transforms.Resize(255),\n",
    "                                      transforms.CenterCrop(224),\n",
    "                                      transforms.ToTensor(),\n",
    "                                      transforms.Normalize([0.485, 0.456, 0.406],\n",
    "                                                           [0.229, 0.224, 0.225])])\n",
    "    image = Image.open(imagepath)\n",
    "    imagetensor = test_transforms(image)\n",
    "    return imagetensor\n",
    "\n",
    "\n",
    "model_path = 'catvdog.pth'\n",
    "try:\n",
    "    checks_if_model_is_loaded = type(model)\n",
    "except:\n",
    "    model = load_model(model_path)\n",
    "model.eval()\n",
    "#summary(model, input_size=(3,244,244))\n",
    "image = image_transform('dog_1.jpg')\n",
    "image1 = image[None,:,:,:]\n",
    "model(image1)\n",
    "\n",
    "# ps=torch.exp(model(image1))\n",
    "# topconf, topclass = ps.topk(1, dim=1)\n",
    "# if topclass.item() == 1:\n",
    "#     print({'class':'dog','confidence':str(topconf.item())})\n",
    "# else:\n",
    "#     print({'class':'cat','confidence':str(topconf.item())})\n"
   ],
   "outputs": [
    {
     "output_type": "execute_result",
     "data": {
      "text/plain": [
       "tensor([[-2.7161, -0.0684]], grad_fn=<LogSoftmaxBackward>)"
      ]
     },
     "metadata": {},
     "execution_count": 10
    }
   ],
   "metadata": {}
  },
  {
   "cell_type": "code",
   "execution_count": null,
   "source": [
    "dummy_input = torch.randn(1,3,224,224, device='cuda')\n",
    "model = m.model\n",
    "\n",
    "# Providing input and output names sets the display names for values\n",
    "# within the model's graph. Setting these does not change the semantics\n",
    "# of the graph; it is only for readability.\n",
    "#\n",
    "# The inputs to the network consist of the flat list of inputs (i.e.\n",
    "# the values you would pass to the forward() method) followed by the\n",
    "# flat list of parameters. You can partially specify names, i.e. provide\n",
    "# a list here shorter than the number of inputs to the model, and we will\n",
    "# only set that subset of names, starting from the beginning.\n",
    "# input_names = [ \"actual_input_1\" ] + [ \"learned_%d\" % i for i in range(16) ]\n",
    "# output_names = [ \"output1\" ]\n",
    "\n",
    "torch.onnx.export(m.model, dummy_input, \"catvdog.onnx\", verbose=True)"
   ],
   "outputs": [],
   "metadata": {}
  },
  {
   "cell_type": "code",
   "execution_count": 20,
   "source": [
    "import cv2\n",
    "import numpy as np\n",
    "im = cv2.imread('zebra_1.jpg')\n"
   ],
   "outputs": [],
   "metadata": {}
  },
  {
   "cell_type": "code",
   "execution_count": 21,
   "source": [
    "def get_brightness(image, dim=10, thresh=0.5):\n",
    "    # Resize image to 10x10\n",
    "    image = cv2.resize(image, (dim, dim))\n",
    "    # Convert color space to LAB format and extract L channel\n",
    "    L, A, B = cv2.split(cv2.cvtColor(image, cv2.COLOR_BGR2LAB))\n",
    "    # Normalize L channel by dividing all pixel values with maximum pixel value\n",
    "    L = L/np.max(L)\n",
    "    # Return True if mean is greater than thresh else False\n",
    "    return np.mean(L)\n",
    "\n",
    "get_brightness(im)"
   ],
   "outputs": [
    {
     "output_type": "execute_result",
     "data": {
      "text/plain": [
       "0.8317254901960783"
      ]
     },
     "metadata": {},
     "execution_count": 21
    }
   ],
   "metadata": {}
  },
  {
   "cell_type": "code",
   "execution_count": 22,
   "source": [
    "import matplotlib.pyplot as plt"
   ],
   "outputs": [],
   "metadata": {}
  },
  {
   "cell_type": "code",
   "execution_count": 23,
   "source": [
    "plt.imshow(im)"
   ],
   "outputs": [
    {
     "output_type": "execute_result",
     "data": {
      "text/plain": [
       "<matplotlib.image.AxesImage at 0x7fb334a552e0>"
      ]
     },
     "metadata": {},
     "execution_count": 23
    },
    {
     "output_type": "display_data",
     "data": {
      "image/png": "[encoded data removed]",
      "text/plain": [
       "<Figure size 432x288 with 1 Axes>"
      ]
     },
     "metadata": {
      "needs_background": "light"
     }
    }
   ],
   "metadata": {}
  },
  {
   "cell_type": "code",
   "execution_count": null,
   "source": [],
   "outputs": [],
   "metadata": {}
  }
 ],
 "metadata": {
  "kernelspec": {
   "name": "python3",
   "display_name": "Python 3.8.5 64-bit ('pytorch': conda)"
  },
  "language_info": {
   "name": "python",
   "version": "3.8.5",
   "mimetype": "text/x-python",
   "codemirror_mode": {
    "name": "ipython",
    "version": 3
   },
   "pygments_lexer": "ipython3",
   "nbconvert_exporter": "python",
   "file_extension": ".py"
  },
  "interpreter": {
   "hash": "8aeee284f14a35c029044423d3f5fec47e190c50ed29d51e1409b96c937b3a86"
  }
 },
 "nbformat": 4,
 "nbformat_minor": 4
}